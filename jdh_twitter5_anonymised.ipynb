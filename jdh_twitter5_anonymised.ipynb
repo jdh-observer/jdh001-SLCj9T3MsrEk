{
 "cells": [
  {
   "cell_type": "markdown",
   "metadata": {
    "tags": [
     "title"
    ]
   },
   "source": [
    "# Feminist commemoration of the 1916 Easter Rising and the ethics of Twitter as data"
   ]
  },
  {
   "cell_type": "markdown",
   "metadata": {
    "tags": [
     "contributor"
    ]
   },
   "source": [
    "## Author 1\n",
    "\n",
    "Author. "
   ]
  },
  {
   "cell_type": "markdown",
   "metadata": {
    "tags": [
     "contributor"
    ]
   },
   "source": [
    "## Author 2\n",
    "\n",
    "Author, developer."
   ]
  },
  {
   "cell_type": "markdown",
   "metadata": {
    "tags": [
     "tags"
    ]
   },
   "source": [
    "Ireland, 1916 Easter Rising, Twitter, feminism, commemoration, ethics"
   ]
  },
  {
   "cell_type": "markdown",
   "metadata": {
    "tags": [
     "abstract"
    ]
   },
   "source": [
    "The centenary of the 1916 Easter Rising was celebrated in 2016, the centrepiece of a decade-long programme of national commemoration in the Republic of Ireland. Marked by digitality and widely declared a success for public engagement with history, the centenary also represented a turning point in feminist re-appraisal of the Irish revolution, one that has been reflected in wider societal shifts concerning the position and freedoms of Irish women today. Drawing upon the primary author's doctoral research, which investigated the nature of feminist commemoration through Twitter in 2016, this article demonstrates the methods and collaboration involved in collecting 'historical' tweets from the 1916 centenary via the Twitter Premium API as well as the ethical considerations and methodological challenges of such research."
   ]
  },
  {
   "cell_type": "markdown",
   "metadata": {},
   "source": [
    "# Introduction"
   ]
  },
  {
   "cell_type": "markdown",
   "metadata": {},
   "source": [
    "Social media platforms are not only spaces in which digital heritage is shared or consumed as participatory arms of cultural entities, but in which remembering takes place, in which commemoration is mobilised such as for feminist historical activism. During the Irish centenary commemorations in 2016, the use of social media as a stage for public debate and a spotlight on women’s underrepresentation in the Easter Rising was observed <cite data-cite=\"4766306/8NUABFVV\"></cite>. The 1916 Easter Rising was a rebellion against British colonial rule in Ireland, and it set in motion a renewed military and political campaign for independence, culminating in the Anglo-Irish Treaty of 1921, and the partition of six northern counties. The centenary of this pivotal event was part of a wider programme of national remembrance, the ‘Decade of Centenaries,’ in the Republic of Ireland and Northern Ireland. Social media is, as Clavert suggests, a tool for the mobilisation and (re)appropriation of commemoration <cite data-cite=\"4766306/2E3VISE7\"></cite> and as a particularly ‘reactive medium’ <cite data-cite=\"4766306/GV83697G\"></cite> Twitter lends itself to moments of national remembrance. This type of Twitter activity in the Irish commemorations peaked in 2016 during which a feminist discourse of remembrance was carved out online, reflecting a renewed and expanding historical consciousness of the women who shaped the course of Irish history. This shift followed decades of research and was further spurred on by the rise of public history, the opening and digitising of certain archives, and the affective economy of a national period of commemoration. The commemorations were also inflected by contemporary gender politics in the Republic. Many gendered grievances against the State in recent years have been mirrored in the demand for a more critical and representative historical narrative and a re-evaluation of whose heritage is valued in national commemoration. Twitter is a space in which commemoration, a relationship to the past and by extension collective memory and identities, may be performed, reified and challenged with fleeting intensity. It is an extension of both official and unofficial commemorations that amplify and interlock with online engagement around historically significant moments, and as such is a snapshot of the ways in which publics are critically engaging with the past in the present."
   ]
  },
  {
   "cell_type": "code",
   "execution_count": 9,
   "metadata": {
    "tags": [
     "figure-1"
    ]
   },
   "outputs": [
    {
     "data": {
      "text/html": [
       "<img src=\"media/1916-2016_Jan-May-tweets-plot.jpg\"/>"
      ],
      "text/plain": [
       "<IPython.core.display.Image object>"
      ]
     },
     "execution_count": 9,
     "metadata": {},
     "output_type": "execute_result"
    }
   ],
   "source": [
    "from IPython.display import Image \n",
    "metadata={\n",
    "    \"jdh\": {\n",
    "        \"module\": \"object\",\n",
    "        \"object\": {\n",
    "            \"type\":\"image\",\n",
    "            \"source\": [\n",
    "                \"figure 1: ‘Easter Rising 2016’ dataset, retweets removed (c. 139k original Tweets) 1 Jan - 31 May 2016\"\n",
    "            ]\n",
    "        }\n",
    "    }\n",
    "}\n",
    "Image(url= \"media/1916-2016_Jan-May-tweets-plot.jpg\", metadata=metadata)"
   ]
  },
  {
   "cell_type": "markdown",
   "metadata": {},
   "source": [
    "These observations prompted a major aspect of the primary author's doctoral research: feminist commemoration on Twitter during the centenary of the Easter Rising (ref-thesis). As a researcher with a background in Public History and little prior knowledge of programming, this presented a daunting task for which, despite an abundance of Twitter studies, little could be found in the way of clarity and instruction for novices beyond computer science sources, perhaps especially so as it concerned historical, that is to say retrospectively collected, Tweets. Elsewhere discussed by the author is the archival value of Twitter - Twitter as cultural heritage – and how public historians and critical heritage studies scholars are well-placed to interpret this memory and history-making space, particularly with the partial liberalisation of the Twitter API (ref-forthcoming 2022). Methodological development and collaboration are needed to make this a wider reality. This article seeks to contribute to greater documentation of methods and methodology for such digital history and heritage work. This article will therefore demonstrate the methods and collaboration involved in collecting historical tweets from the 2016 commemorations via the Twitter API for the analysis informed by critical heritage studies and public history. Digital humanities methods were applied to the study of Irish national commemorations and in this context to interrogate Twitter as it is embedded in the mediation of collective memory and identity in late-modern authorised commemoration. In their case study of the Fukushima disaster anniversary, Rantasila et al. pointed to the need for greater integration of qualitative approaches in network analyses, big-data, and social media research <cite data-cite=\"4766306/8CHKQ2KQ\"></cite> and this study attends to this in the application of thematic qualitative analysis to Tweets collected. "
   ]
  },
  {
   "cell_type": "markdown",
   "metadata": {},
   "source": [
    "Twitter and remembrance have tended to focus on the commemoration and memorialisation of recent traumatic events and less on nationalising, historical commemorations, Clavert’s work on the commemoration of the First World War in France between 2014 and 2019 being a notable exception. This longitudinal study is perhaps unique in collecting a dataset of several million tweets based on a national and international period of commemoration, and in its expansiveness, this study also captured a small number of tweets from the Irish celebrations in 2016. Primarily pertaining to the French commemorations, Clavert’s study explicitly sets out to interrogate the relationship that may exist between commemorations, collective memory, and social networks - specifically Twitter <cite data-cite=\"4766306/2E3VISE7\"></cite>. The Irish commemorations have left - and continue to leave - a substantial digital trace, a *record* of activity in the evidentiary sense but also in the social media sense of user-generated content <cite data-cite=\"4766306/EJVNCVWR\"></cite>. Twitter is therefore both a data source and an historical source, one that has archival value if not archivable in the traditional sense. "
   ]
  },
  {
   "cell_type": "markdown",
   "metadata": {},
   "source": [
    "Social media, in this way, is both a litmus test for major events or upheavals and a birds-eye view of popular attitudes that coalesce around them <cite data-cite=\"4766306/ZEZX8GEI\"></cite>. However, this tendency towards topic-based research is also a practical issue, as Boyd and Crawford remind, due to prior restrictions on historical data collection that Twitter imposed: at the time of researching and writing my doctoral thesis, upon which this article draws, it was not possible to collect Twitter data more than seven days in the past without recourse to a data purchase <cite data-cite=\"4766306/CQMSBDX8\"></cite>. Recent changes to policy have heralded free and enhanced access to the full historical archive of Tweets for academic researchers. Pre-defined datasets are also being compiled and released by Twitter for research around global issues like the coronavirus pandemic <cite data-cite=\"4766306/XSRSN7R6\"></cite>. The historical but also archival value of Twitter has long since been recognised in the fraught attempt by the Library of Congress to process the deposit of Twitter’s archive of public tweets since 2006, part of a broader drive to archive the web <cite data-cite=\"4766306/PAE5MSB5\"></cite>. Web archives, inclusive of social media feeds, are increasingly understood as having historical value both for contemporary and future history, and therefore as digital heritage collected and preserved in institutional repositories and national web archive collections. Collecting but also archiving Tweet datasets based on keywords or hashtags (as opposed to user feeds) is also increasingly happening outside of formal memory institutions for both research and activism e.g., DocNow <cite data-cite=\"4766306/CBLKK9VX\"></cite>."
   ]
  },
  {
   "cell_type": "markdown",
   "metadata": {},
   "source": [
    "Twitter data has, for many years now, been commodified through reselling services as well as restricting free access to Tweet data using its Standard API to the past seven days only. And while the Cambridge Analytica scandal concerned Facebook and its subsidiaries, Twitter also responded by altering its API management process; as of July 2018, signing up for a Twitter Developers account for API access requires an application and authentication process, and agreement to terms of use that restrict the kinds of research that can be carried out <cite data-cite=\"4766306/A5QUR3PZ\"></cite>. Through the Developers service, Twitter offers a subscription-based, three-tier paid access model, the upper ends of which are, for most researchers, prohibitively expensive. Generous docotral funding allowed for such access (carried out in November 2019), a privileged position within this data-selling landscape, its uneven API access and implications for research, that must be acknowledged <cite data-cite=\"4766306/DJSMJU9J\"></cite> <cite data-cite=\"4766306/A5QUR3PZ\"></cite>. Equally, the ethics of Twitter as data are situated with the researcher. "
   ]
  },
  {
   "cell_type": "markdown",
   "metadata": {},
   "source": [
    "# Ethic and Privacy"
   ]
  },
  {
   "cell_type": "markdown",
   "metadata": {},
   "source": [
    "Infrastructural limitations on social media research influence the kind of research that can be conducted, and the kinds of questions asked: ‘The underlying features of social platforms impinge on research designs and data collection, as one cannot ask questions of data that is not possible to collect’ <cite data-cite=\"4766306/DJSMJU9J\"></cite>. Closely related is the ‘ethics turn in social media,’ <cite data-cite=\"4766306/FRKCN4MR\"></cite> as well as the tightening of general data protection regulations (GDPR) in the EU, which, combined with Twitter's policies, impacts the ways that researchers can report their findings.  The work of Ahmed et al is particularly instructive in navigating this terrain. They provide an overview of the main privacy challenges and ethical grey areas in social media research with a focus on Twitter, and is grounded in the approach that ‘traditional ethical principles such as consent, anonymity, and avoiding undue harm should also be applied to social media research’ <cite data-cite=\"4766306/5X4D39SC\"></cite>. Twitter has always maintained that any Tweet is public information ‘by default’ <cite data-cite=\"4766306/ZS3Q6GP2\"></cite> unless otherwise restricted through the user privacy settings. Only public tweets - those not protected by these settings - can therefore be collected through the Twitter API. Policy has since been updated to reflect recent currents in social media data re-use and privacy, re-affirming the public nature of Tweets but also that the responsibility for public Tweets and how they may be used elsewhere, lies with the user: ‘You are responsible for your Tweets and other information you provide through our services, and you should think carefully about what you make public, especially if it is sensitive information’ <cite data-cite=\"4766306/ZS3Q6GP2\"></cite>. Elsewhere, individual choice and the burden of liability are similarly built into statements about the function of its APIs, where Twitter data is described as ‘unique from data shared by most other social platforms because it reflects information that users choose to share publicly’ <cite data-cite=\"4766306/5RJIC6DB\"></cite>. Such nuances are indicative of a hands-off approach by social media companies that operate open and increasingly scrutinized communication environments, as well as tying with Myers and Hamilton’s assertion that ‘the form of Twitter similarly [to Facebook] embodies classical liberalism by also constituting…the user as an autonomous individual’ <cite data-cite=\"4766306/ZEZX8GEI\"></cite>. "
   ]
  },
  {
   "cell_type": "markdown",
   "metadata": {},
   "source": [
    "Advocating for critical practice in the use of cultural data, Earhart contends that ‘Central to ethical engagement with large datasets that contain individual identifiers, such as is the case with tweets, is careful consideration of the positionality of the researcher and the development of a methodology that protects the privacy of individuals’ <cite data-cite=\"4766306/5EG6DA6S\"></cite>. And if the ‘process of evaluating the research ethics cannot be ignored simply because the data are seemingly public’<cite data-cite=\"4766306/CQMSBDX8\"></cite>, as researchers we cannot operate on the assumption that agreeing to the terms of service of Twitter is a proxy for consenting to be part of a university research project. Though Twitter is by all accounts considered public domain data, it behoves us to adhere to higher ethical standards than the legal technicalities afforded by terms of service <cite data-cite=\"4766306/5X4D39SC\"></cite> that seek to limit corporate liability on the part of companies who profit from user generated data in what is always an asymmetric agreement. ‘Sensitivity’ of the data will be case dependent, and we should bear in mind not alone the topic of study (in this case commemoration), but the community of study, power dynamics, and our positionality in this equation, and the ways in which we then interpret and narrativize the data <cite data-cite=\"4766306/5EG6DA6S\"></cite>."
   ]
  },
  {
   "cell_type": "markdown",
   "metadata": {},
   "source": [
    "‘Participants’ are considered to have given general consent upon agreeing to the terms of service, however, it remains unfeasible to obtain specific informed consent from thousands of users that appear in a set of public domain tweets collected by hashtag or keyword research. We can nonetheless respect user privacy and data confidentiality in the ways we conduct and present research, beginning with formal approval of a project by the host institution’s ethical oversight, a process that demands significant reflection on the potential consequences of our work (Note: Ethics approval was granted for the conduct of this data collection and analysis by the UCL Research Ethics Committee). Any analysis and presentation of data must be aggregated, without the use of direct quotes or publishing of usernames (with some exceptions) unless with informed consent, a mechanism which should be built into the ethics application and research planning rather than *post hoc*. As tweet datasets stored offline must be updated to reflect any subsequent account or Tweet deletions, such consent provisions further future-proof publication of the findings that use direct quotes. In this study, any direct references to tweets use only keywords, are significantly reworded or paraphrased so as not to be reverse searchable. An exception was made for accounts operated by publicly-funded entities such as national institutions, where they are of interest, and ‘accounts of public interest’ <cite data-cite=\"4766306/D6I3Z7NC\"></cite> that have verified (‘blue tick’) status and limiting these to organisational rather than private indivuals'accounts, e.g. the account of the official commemorations body @ireland2016. As the topic of research did not fall under any of the categories of highly sensitive information, potential risk to participants through de-identification, reverse-searching of text or a data storage failure was low <cite data-cite=\"4766306/W5XS2QWQ\"></cite>. Data was collected, stored and analysed using an encrypted laptop, and stored securely using the UCL N:Drive research server. Qualitative thematic coding to analyse and report on the data was also drawn from Ahmed’s use of the method for researching public health and global pandemics <cite data-cite=\"4766306/W5XS2QWQ\"></cite> <cite data-cite=\"4766306/FQ2JB35C\"></cite>. "
   ]
  },
  {
   "cell_type": "markdown",
   "metadata": {},
   "source": [
    "Closely related to navigating ethics and privacy are considerations of copyright vis à vis contemporary and social media data. In the past, Twitter largely prohibited the sharing of full datasets except in the form of Tweet IDs with limits to how many could be shared per 30-day period, and only for non-profit academic research, meaning that even in this form there were technical and legal barriers to accessing datasets and evaluating research <cite data-cite=\"4766306/HWQ9TSU7\"></cite>. Datasets may now be shared with peer-reviewers in the interest of research integrity and transparency, with upper limits on Tweet ID sharing increased <cite data-cite=\"4766306/QS4B4NIV\"></cite>. Nevertheless, the interaction of GDPR, copyright restrictions, and the implementation of a rigorously ethical methodology, creates difficulties for reporting on the data in a meaningful way and given that evidence is the *sine qua non* of research integrity. As one hate-speech researcher had to contend with, the difficulty of obtaining informed consent to publish verbatim hateful tweet content (considered 'high-risk') and, effectively, the protection of hate-speech producers over the interests of those who are subjected to it, had profound consequences for the research focus and for methodological integrity, critical inquiry, and justice (i.e., that 'participation in, and gains from, research should be as equitable as possible') <cite data-cite=\"4766306/7X8C55RI\"></cite>. For the digital historian, it also creates challenges for presenting a compelling narrative rather than quantitative descriptions, which is a methodological and epistemological problem as much as a regulatory one."
   ]
  },
  {
   "cell_type": "markdown",
   "metadata": {},
   "source": [
    "# Data Collection"
   ]
  },
  {
   "cell_type": "markdown",
   "metadata": {},
   "source": [
    "> Data access is the first in a number of steps researchers have to take as they collect, process, validate, interpret, share, and archive the data. These steps often require robust technical skills, as API endpoints for data collection were designed for programmers building application software that adds to the services offered by social platforms <cite data-cite=\"4766306/DJSMJU9J\"></cite>.  "
   ]
  },
  {
   "cell_type": "markdown",
   "metadata": {
    "tags": [
     "hermeneutics"
    ]
   },
   "source": [
    "The data collection was carried out by utilising Twitter’s ‘Premium’ Application Programming Interfaces (API). Using Python, the Premium API was leveraged to retrieve historical Tweets from 2016 for analysis. At the time, free access to Tweets was restricted to seven days in the past from the point of retrieval. As well as offering access to historical Tweets and enhanced metadata, paid Twitter APIs also afford complete access to matching Tweets whereas the free API returns an incomplete sample <cite data-cite=\"4766306/MM75RPG6\"></cite>. Twitter has provided its own data-selling service called ‘Twitter Developers’ since 2017, which is subscription-based with three tiers of access to its APIs - Standard, Premium and Enterprise - Developers. ‘Academic Research’ was also already identified by Twitter as significant use case within this framework, prior to the recent liberalisation. The Premium API provides access to the full archive of Tweets since 2006, that is to say ‘Filtered access to the entire public history of Tweets through Boolean queries’ <cite data-cite=\"4766306/J7K5MA3S\"></cite>.  "
   ]
  },
  {
   "cell_type": "markdown",
   "metadata": {
    "tags": [
     "hermeneutics"
    ]
   },
   "source": [
    "The creation of a programme for retrieving data through the Twitter API was a collaborative effort between the authors. Scholars of public history and heritage studies should be well placed to interrogate the many uses of the past in social media spaces. However, for those wishing to conduct social media research that falls outside the standard limitations of free APIs and the affordances of out-of-the-box tools, or who do not possess the skills required to utilise APIs in a timely fashion, collaboration with scholars in computer and data science is increasingly necessary and common: ‘collaboration is a normal practice of humanities computing and should therefore be imagined as part of any discussion of method’ <cite data-cite=\"4766306/BX8IMUQP\"></cite>. Rockwell and Sinclair describe a process of ‘pair work’ that reflects the time we spent in trial and error - Author 2 at the keyboard, Author 1 reviewing and reflecting - discussing, testing, wading through documentation and ‘thinking through the code’ <cite data-cite=\"4766306/BX8IMUQP\"></cite>. This was a constant dialogue about how to retrieve the desired data, what form it would take, what limitations we faced or what limitations to place upon the amount and types of data collected (extending into considerations of ethics and privacy), and what we wanted the data to look like after cleaning and processing in order to start making sense of it, and possibilities for analysis. In this way, we produced a programme to retrieve historical tweets through Twitter Developers, and supplementary data cleaning and processing programmes."
   ]
  },
  {
   "cell_type": "markdown",
   "metadata": {
    "tags": [
     "hermeneutics-step"
    ]
   },
   "source": [
    "As a reference for designing and modifying the eventual query, the below tweet metadata template was retrieved using the Standard API (anonymised) provides ‘deep JSON’ (JavaScript Object Notation) or nested information (i.e., multi-level, Russian doll-like), meaning it also shows the elements of the user metadata that may be of interest:"
   ]
  },
  {
   "cell_type": "code",
   "execution_count": null,
   "metadata": {},
   "outputs": [],
   "source": [
    "[\n",
    "{\n",
    "'created_at': 'Fri Jan 1 00:00:00 +0000 2021',\n",
    "'id': xxxxxxxxxxxxxxxxx,\n",
    "'id_str': 'xxxxxxxxxxxxxxxxx',\n",
    "'full_text': 'This is the full metadata of a Tweet’.,\n",
    "'truncated': False,\n",
    "'display_text_range': [0, 280],\n",
    "'entities': {\n",
    "\t'hashtags': [],\n",
    "\t'symbols': [],\n",
    "\t'user_mentions': [],\n",
    "\t'urls': []\n",
    "},\n",
    "'metadata': {\n",
    "\t'result_type': 'popular',\n",
    "\t'iso_language_code': 'en'\n",
    "},\n",
    "'source': '<a href=\"http://twitter.com/download/iphone\" rel=\"nofollow\">Twitter for iPhone</a>',\n",
    "'in_reply_to_status_id': None,\n",
    "'in_reply_to_status_id_str': None,\n",
    "'in_reply_to_user_id': None,\n",
    "'in_reply_to_user_id_str': None,\n",
    "'in_reply_to_screen_name': None,\n",
    "'user': {\n",
    "\t'id': xxxxxxxx,\n",
    "\t'id_str': 'xxxxxxxx',\n",
    "\t'name': 'Tweet M. Data',\n",
    "\t'screen_name': 'T_metadata',\n",
    "\t'location': 'Twittersphere',\n",
    "\t'description': 'I Tweet, therefore I am’.,\n",
    "\t'url': 'https://t.co/xxxxxxxxxx',\n",
    "\t'entities': {\n",
    "\t\t'url': {\n",
    "\t\t\t'urls': [{\n",
    "\t\t\t\t'url': 'https://t.co/xxxxxxxxxx',\n",
    "\t\t\t\t'expanded_url': 'http://www.tweetmetadata.com',\n",
    "\t\t\t\t'display_url': 'tweetmetadata.com',\n",
    "\t\t\t\t'indices': [0, 10]\n",
    "\t\t\t}]\n",
    "\t\t},\n",
    "\t\t'description': {\n",
    "\t\t\t'urls': []\n",
    "\t\t}\n",
    "\t},\n",
    "\t'protected': False,\n",
    "\t'followers_count': 0,\n",
    "\t'friends_count': 0,\n",
    "\t'listed_count': 1,\n",
    "\t'created_at': 'Mon Jan 01 00:00:00 +0000 2006',\n",
    "\t'favourites_count': 0,\n",
    "\t'utc_offset': None,\n",
    "\t'time_zone': None,\n",
    "\t'geo_enabled': False,\n",
    "\t'verified': True,\n",
    "\t'statuses_count': 0,\n",
    "\t'lang': 'en',\n",
    "\t'contributors_enabled': False,\n",
    "\t'is_translator': False,\n",
    "\t'is_translation_enabled': False,\n",
    "\t'profile_background_color': 'XXXXXX',\n",
    "\t'profile_background_image_url':,\n",
    "\t'profile_background_image_url_https':,\n",
    "\t'profile_background_tile': True,\n",
    "\t'profile_image_url': None,\n",
    "\t'profile_image_url_https': None ,\n",
    "\t'profile_banner_url': \n",
    "\t'profile_link_color': 'XXXXXX',\n",
    "\t'profile_sidebar_border_color': '000000',\n",
    "\t'profile_sidebar_fill_color': '000000',\n",
    "\t'profile_text_color': '000000',\n",
    "\t'profile_use_background_image': False,\n",
    "\t'has_extended_profile': False,\n",
    "\t'default_profile': True,\n",
    "\t'default_profile_image': True,\n",
    "\t'following': None,\n",
    "\t'follow_request_sent': None,\n",
    "\t'notifications': None,\n",
    "\t'translator_type': 'regular'\n",
    "},\n",
    "'geo': None,\n",
    "'coordinates': None,\n",
    "'place': None,\n",
    "'contributors': None,\n",
    "'is_quote_status': False,\n",
    "'retweet_count': 0,\n",
    "'favorite_count': 0,\n",
    "'favorited': True,\n",
    "'retweeted': False,\n",
    "'lang': 'en'\n",
    "}\n",
    "]\n"
   ]
  },
  {
   "cell_type": "markdown",
   "metadata": {
    "tags": [
     "hermeneutics"
    ]
   },
   "source": [
    "While tweets provide a wealth of metadata not all of it will be of use or interest to the researcher, so it was decided to be selective about which to retrieve and to leave out. The programme we created returns only the specific information asked for rather than the full tweet metadata by specifying tweet attributes in the code, which can be modified and expanded easily <cite data-cite=\"4766306/DTU6X99K\"></cite>. Requesting the ‘entities’ attribute returns usernames, user mentions, hashtags, URLs etc. in JSON format that are easily parsed for use later <cite data-cite=\"4766306/ZTXA7Q3C\"></cite>. In this way, some privacy and data protection issues can be minimized at the request level, as well as eliminating unnecessarily cumbersome data that ultimately may be not of interest to the research. This was both pragmatic in terms of the research interests and the management of large amounts of data, but also in reducing superfluous personally identifying data that may constitute a privacy concern<cite data-cite=\"4766306/5X4D39SC\"></cite>. The following is an overview of the key features of the programme."
   ]
  },
  {
   "cell_type": "markdown",
   "metadata": {
    "tags": [
     "hermeneutics"
    ]
   },
   "source": [
    "# Programme design"
   ]
  },
  {
   "cell_type": "markdown",
   "metadata": {
    "tags": [
     "hermeneutics-step"
    ]
   },
   "source": [
    "The [Python](https://www.python.org/) programming language was used to query and process the Twitter API due to the availability of a wide variety of libraries to collect, clean, and process data. Tweets are obtained through queries performed using the *[TwitterAPI](https://github.com/geduldig/TwitterAPI)* library, which encapsulates all the required functionality to request tweets from the Twitter API (This may lend itself to some confusion, since the name of the Python library used to query the Twitter API is *TwitterAPI*. Aside from the spacing difference, references to the Python library will appear in italics).\n",
    "\n",
    "This library uses a set of access codes generated in the Twitter Developer's portal to authenticate the requests to the Twitter API (`api = TwitterAPI((\"XXX\", \"XXX\", \"XXX\", \"XXX\", auth_type='oAuth2')`).\n",
    "\n",
    "Aside from the authentication tokens, it is necessary to create a label to refer to the subscription plan or product contracted in the Twitter Developer portal (`LABEL = 'Pilot'`), as well as the product type. The product type refers to the type of history that can be queried, where the two options at the time of this research were to query tweets from the last 30 days or query the full history of tweets (`PRODUCT = 'fullarchive'` or `PRODUCT = '30day'`).\n",
    "\n",
    "<!-- @DR COMMENT: I think we ended up using a different library for the Twitter API that is called TwitterAPI.\n",
    "\n",
    " Twython and Pandas were first installed. Twython gives back unstructured data that is linear and messy, whereas Pandas returns structured data in tabular form that is easier for manipulation i.e., a CSV file that can be read in Excel. Both packages are necessary to understand the full context of the data.  \n",
    "The product (‘fullarchive’), the project label (‘Pilot’) and the authorisation keys obtained through the Developers account are inserted. \n",
    "-->"
   ]
  },
  {
   "cell_type": "code",
   "execution_count": null,
   "metadata": {},
   "outputs": [],
   "source": [
    "from TwitterAPI import TwitterAPI\n",
    "\n",
    "# Enter unique access tokens generated in Twitter Developers for authentication.\n",
    "api = TwitterAPI((\"XXXXXXXXXXXXXXXXXXXXXXXXXX\",\n",
    "                 \"XXXXXXXXXXXXXXXXXXXXXXXXXXXXXXXXXXXXXXXXXXXXXXXXXX\",\n",
    "                 \"XXXXXXXXXXXXXXXXXXXXXXXXXXXXXXXXXXXXXXXXXXXXXXXXXX\",\n",
    "                 \"XXXXXXXXXXXXXXXXXXXXXXXXXXXXXXXXXXXXXXXXXXXXX\"       \n",
    "                  auth_type='oAuth2')\n",
    "                 \n",
    "LABEL = 'Pilot' # Labels created in Developers.\n",
    "PRODUCT = 'fullarchive' # Use this for full history\n",
    "# PRODUCT = '30day'#Use this for 30-day archive"
   ]
  },
  {
   "cell_type": "markdown",
   "metadata": {
    "tags": [
     "hermeneutics-step"
    ]
   },
   "source": [
    "The final step in this process was to create and insert a ‘query’ i.e., search terms, using keyword combinations and hashtags to match the request with desired tweets (`SEARCH_TERM = ' #keywords lang:en -is:retweet'`). The structure of the queries used in this research will be described in more detail in the next section.\n",
    "\n",
    "<!-- @DR\n",
    "Possibly the most relevant piece of information that is defined in the Python script is the **query** (`SEARCH_TERM = ' #keywords lang:en -is:retweet'`). The query is made up of a set of expressions that are used to filter the types of tweets that are received from the Twitter API. Tweets can be filtered by date ranges, combinations of hashtags, exact matches in the text, the language in which the tweet is written, whether to include retweets in the results, the location that is associated with the tweet, among many other options. The query will be described in more detail in the next section.\n",
    "-->"
   ]
  },
  {
   "cell_type": "code",
   "execution_count": null,
   "metadata": {
    "tags": [
     "hermeneutics"
    ]
   },
   "outputs": [],
   "source": [
    "# Enter query. Define language. Option to remove retweets at point of retrieval using ‘-is:retweet’statement.\n",
    "SEARCH_TERM = ' #keywords lang:en -is:retweet'"
   ]
  },
  {
   "cell_type": "markdown",
   "metadata": {
    "tags": [
     "hermeneutics-step"
    ]
   },
   "source": [
    "As stated above, when the programme is run it creates a new .CSV file into which the data is exported, and which can be modified to begin a new dataset as required (e.g., `file_name = 'output.csv'`)."
   ]
  },
  {
   "cell_type": "code",
   "execution_count": null,
   "metadata": {
    "tags": [
     "hermeneutics"
    ]
   },
   "outputs": [],
   "source": [
    "# Filename and structure of the table\n",
    "file_name = \"output.csv\""
   ]
  },
  {
   "cell_type": "markdown",
   "metadata": {
    "tags": [
     "hermeneutics-step"
    ]
   },
   "source": [
    "Next, we created a metadata dictionary. The metadata include the Tweet ID (string of numbers), date (date and exact time stamp of when the Tweet was sent), location (the area the user specifies in their bio, e.g. ‘Co. Dublin’), the Tweet favourite count, the number of retweets, and language, together with the full text of the tweet and additional information about the tweet and the user who published it:"
   ]
  },
  {
   "cell_type": "code",
   "execution_count": null,
   "metadata": {},
   "outputs": [],
   "source": [
    "# Define which attribute (i.e. desired metadata) to print in columns. Refer to Tweet metadata template and adjust. Must correlate with for loop (see below).\n",
    "dict_ = {\"request\": [], \"id\": [], \"date\": [], \"text\": [], \"location\": [], \"place\": [],\"coordinates\": [], \"favorite_count\": [], \"retweets\": [], \"language\": [], \"quote_count\": [], \"reply_count\": [], \"in_reply_to_status_id\": [], \"source\": [], \"query\": [], \"entities\": []}"
   ]
  },
  {
   "cell_type": "markdown",
   "metadata": {
    "tags": [
     "hermeneutics"
    ]
   },
   "source": [
    "These parameters set the column headings within the CSV that is produced, such as the test example below ([figure 3](#figure-2)). The ways in which the tweet metadata retrieved have been structured and filtered necessarily produces a more limited representation of the potential dataset. Just as any visualisations or graphical transformations of the dataset elements will be a mediated representation the ‘dataset is already an extraction from a corpus, text, or aesthetic work, and a remediation’ <cite data-cite=\"4766306/MVJ4SFZD\"></cite>; in other words, as Drucker points out, it is already a ‘derivative’ <cite data-cite=\"4766306/MVJ4SFZD\"></cite>. These representational limitations need to be acknowledged and accounted for in both the collection of data and the inferences we make from it. "
   ]
  },
  {
   "cell_type": "code",
   "execution_count": 12,
   "metadata": {
    "tags": [
     "figure-3"
    ]
   },
   "outputs": [
    {
     "data": {
      "text/html": [
       "<img src=\"media/tweet_attributes_blurred2.jpg\"/>"
      ],
      "text/plain": [
       "<IPython.core.display.Image object>"
      ]
     },
     "execution_count": 12,
     "metadata": {},
     "output_type": "execute_result"
    }
   ],
   "source": [
    "from IPython.display import Image \n",
    "metadata={\n",
    "    \"jdh\": {\n",
    "        \"module\": \"object\",\n",
    "        \"object\": {\n",
    "            \"type\":\"image\",\n",
    "            \"source\": [\n",
    "                \"figure 2 : Test example of data returned and tweet attributes structured in CSV format\"\n",
    "            ]\n",
    "        }\n",
    "    }\n",
    "}\n",
    "Image(url= \"media/tweet_attributes_blurred2.jpg\", metadata=metadata)"
   ]
  },
  {
   "cell_type": "markdown",
   "metadata": {
    "tags": [
     "hermeneutics-step"
    ]
   },
   "source": [
    "Running the programme repeatedly and specifying the same file continues adding data to this file from the point it finished in each previous request. This is a necessary step due to the limited quotas defined in the Twitter API.\n",
    "\n",
    "‘Rate limits’ - the number of requests that can be made through an API per unit of time - are much higher with Premium level access <cite data-cite=\"4766306/XFH6ZQN4\"></cite>. There is currently an upper limit of requests of 60 per minute and a maximum number of Tweets per request of 500 for the Premium subscription plan. To maximise the number of tweets obtained per query to the API, 60 requests are automatically submitted each time the programme is run (`NUMBER_OF_REQUESTS = 60`), which amounts to 30,000 tweets. Monthly limits also apply <cite data-cite=\"4766306/VH75KP48\"></cite>. Each new request begins from the last tweet in the previous request without duplicating the last tweet. The first column in the CSV therefore counts the tweets in each request and shows where each new request begins, looping from 499-0 each time. Tweets are returned in reverse chronology, starting from the most recent tweet. "
   ]
  },
  {
   "cell_type": "code",
   "execution_count": null,
   "metadata": {
    "tags": [
     "hermeneutics"
    ]
   },
   "outputs": [],
   "source": [
    "NUMBER_OF_REQUESTS = 60\n",
    "is_new_file = True\n",
    "total_num_tweets = 0\n",
    "\n",
    "# REQUEST LOOP (WE GENERATE A NEW REQUEST TO THE API EACH TIME)\n",
    "for i in range(NUMBER_OF_REQUESTS):\n",
    "    print(\"Request number \", i)"
   ]
  },
  {
   "cell_type": "markdown",
   "metadata": {
    "tags": [
     "hermeneutics-step"
    ]
   },
   "source": [
    "Most importantly, the Premium API ‘Full Archive’ endpoint allows us to request tweets from a specific time period using the `fromDate` and `toDate` parameters (Note: An ‘endpoint’ refers one end of a communication channel, which moderates the kind of data can be accessed through the API) <cite data-cite=\"4766306/FZNE756Q\"></cite>.\n",
    "\n",
    "Given that all collected tweets are written to a single CSV file, every new request needs to start at the exact date and time in which the last tweet collected was published. This allows the collection of tweets chronologically and in a way that avoids duplicates and ensures no tweets that match the query are skipped. If the CSV file is empty (`if os.path.exists(file_name)` evaluates for `False`), i.e. when running the very first request, the `toDate` is the parameter that is specified by the user when defining a date range (`date = 'YYYYMMDD0000'`). If the CSV file exists, the publication date and time of the last tweet recorded in the file is read and incorporated into the `toDate` parameter in the query.\n",
    "\n",
    "If the date of the last tweet extracted is earlier than the `fromDate` specified by the user, that implies there are no additional tweets to extract in that time period. The programme then stops making additional requests (`if int(date) <= int(from_date): break`)."
   ]
  },
  {
   "cell_type": "code",
   "execution_count": null,
   "metadata": {
    "tags": [
     "hermeneutics"
    ]
   },
   "outputs": [],
   "source": [
    "date = 'YYYYMMDD0000'\n",
    "now = time.strftime('%Y-%m-%d %H:%M', time.gmtime())\n",
    "\n",
    "if os.path.exists(file_name):\n",
    "    # CSV file exists, read existing file\n",
    "    with open(file_name, \"r\") as file:\n",
    "        is_new_file = False\n",
    "        csvfile = csv.DictReader(file)\n",
    "        for row in reversed(list(csvfile)):\n",
    "            current_tweet_num = int(row['index']) + 1\n",
    "            \n",
    "            # Only read the last date if the last tweet was\n",
    "            # extracted with the same query as the current one\n",
    "            if row['query'] == SEARCH_TERM:\n",
    "                created_at = row['date']\n",
    "                date = time.strftime('%Y%m%d%H%M',time.strptime(created_at, '%a %b %d %H:%M:%S +0000 %Y'))\n",
    "            break\n",
    "else:\n",
    "    print('Creating new file ', file_name)\n",
    "    print('TO DATE: ', date)\n",
    "\n",
    "from_date = 'YYYYMMDD0000'\n",
    "\n",
    "# This should stop requests when they reach this date\n",
    "if int(date) <= int(from_date): break"
   ]
  },
  {
   "cell_type": "markdown",
   "metadata": {
    "tags": [
     "hermeneutics-step"
    ]
   },
   "source": [
    "The information described earlier is used to construct a request to the API. `PRODUCT` and `LABEL` information are used to define the database and account, respectively, to direct the request to. After determining *where* to retrieve tweets from, the next step is to determine *which* tweets to retrieve. This is specified by a combination of the search query (`SEARCH_TERM`), the date ranges (`from_date`, `date`), and the maximum number of tweets to retrieve (`500` is used to obtain the largest number of tweets allowed by the API).\n",
    "\n",
    "The following line of code sends the request to the API and places all of the results that are received in a variable (`r`) for subsequent manipulation."
   ]
  },
  {
   "cell_type": "code",
   "execution_count": null,
   "metadata": {},
   "outputs": [],
   "source": [
    "r = api.request('tweets/search/%s/:%s' % (PRODUCT, LABEL),\n",
    "                {'query': SEARCH_TERM, 'maxResults':'500', 'fromDate': from_date, 'toDate': date})"
   ]
  },
  {
   "cell_type": "markdown",
   "metadata": {
    "tags": [
     "hermeneutics-step"
    ]
   },
   "source": [
    "The results stored in `r` contain all of the tweets from the request, and we receive all of the publicly available information for every tweet, such as information about location, retweets, number of times it has been marked as favourite, and the metadata of the publishing user. Every tweet is processed inside a for loop, `for item in r:`, that iterates through every tweet stored into `r` and uses `item` as a temporary variable that contains an individual tweet. The `item` variable contains all of the aforementioned information about the individual tweet which it stores in a dictionary format, meaning that every *value* related to that tweet is stored as an *entry* that is associated with a particular *key*. For example, a tweet that has an ID of `24` (in the internal Twitter database) will store the number `24` inside the dictionary entry related to the `id` keyword: `item[\"id\"] = 24`.\n",
    "\n",
    "There is a substantial amount of information associated to any particular tweet, so we decided to only store the most relevant information for our research goals. The way this is done is by adding the information from the *columns* in the source data (`item`) into our predefined metadata dictionary (`dict_`). Our `dict_` object is not a simple dictionary, but a dictionary of lists, what this means is that, for every key, we keep a list of values, one for each tweet processed. In this sense, the dictionary entry for tweet IDs would look something like this: `dict_[\"id\"] = [24, 12, 153, 221, 9, ...]`. Adding a piece of information from the source to our dictionary is therefore not a simple value assignment, but rather amounts to *appending* a value to a list. For the tweet ID, this is done in the following line of code: `dict_[\"id\"].append(item[\"id\"])`.\n",
    "\n",
    "Many of the fields only need to be copied over to our dictionary. Other fields, however, need to undergo additional operations to get the data in the right format for subsequent storage. Text fields, such as the text of the tweet or the location, need to be encoded into UTF-8 before we save them to our CSV file `text.encode(encoding='utf-8', errors='ignore')`. Certain fields contain additional structured information in [JavaScript Object Notation (JSON)](https://www.json.org/json-en.html) format, so in these cases the data needs to be *parsed* so it can be stored in a usable format: `json.dumps(item[\"entities\"])`.\n",
    "\n",
    "We store information about the requests from which every tweet came, such as the number, time, and date of the request (`str(i+1)+' - '+now`), and the query that was used to obtain them (`SEARCH_TERM`).\n",
    "\n",
    "Additionally, we wrote in an option to anonymise all user handles that appear in the text of a tweet (`re.sub(r\"(?:\\@)\\S+\", \"@USER\", item[\"text\"])`), although we are not currently using that option (the line is commented out in the code).\n",
    "\n",
    "<!--\n",
    "When the metadata parameters i.e., columns, are modified, we must also modify the ‘for’ loop, which allows for correct iteration and appending of data, to match the new requirements, e.g.: \n",
    "-->"
   ]
  },
  {
   "cell_type": "code",
   "execution_count": null,
   "metadata": {
    "tags": [
     "hermeneutics"
    ]
   },
   "outputs": [],
   "source": [
    "# This loops through all the tweets in r\n",
    "for item in r:\n",
    "#     dict_[\"index\"].append((current_tweet_num + num_tweets))\n",
    "    dict_[\"request\"].append(str(i+1)+' - '+now)\n",
    "    dict_[\"id\"].append(item[\"id\"])\n",
    "    dict_[\"date\"].append(item[\"created_at\"])\n",
    "    # text = re.sub(r\"(?:\\@)\\S+\", \"@USER\", item[\"text\"])\n",
    "    text = item[\"text\"]\n",
    "    text = text.encode(encoding='utf-8', errors='ignore')\n",
    "    dict_[\"text\"].append(str(text))\n",
    "    dict_[\"location\"].append(str(item[\"user\"][\"location\"]).encode(encoding='utf-8', errors='ignore'))\n",
    "    dict_[\"place\"].append(json.dumps(item[\"place\"]))\n",
    "    dict_[\"coordinates\"].append(json.dumps(item[\"coordinates\"]))\n",
    "    dict_[\"favorite_count\"].append(item[\"favorite_count\"])\n",
    "    dict_[\"retweets\"].append(item[\"retweet_count\"])\n",
    "    dict_[\"language\"].append(item[\"lang\"])\n",
    "    dict_[\"quote_count\"].append(item[\"quote_count\"])\n",
    "    dict_[\"reply_count\"].append(item[\"reply_count\"])\n",
    "    dict_[\"in_reply_to_status_id\"].append(item[\"in_reply_to_status_id\"])\n",
    "    dict_[\"source\"].append(item[\"source\"])\n",
    "    dict_[\"query\"].append(SEARCH_TERM)\n",
    "    dict_[\"entities\"].append(json.dumps(item[\"entities\"]))\n",
    "    num_tweets += 1"
   ]
  },
  {
   "cell_type": "markdown",
   "metadata": {
    "tags": [
     "hermeneutics-step"
    ]
   },
   "source": [
    "After iterating through all of the tweets returned by the request and storing them in our predefined dictionary they are converted into a [pandas](https://pandas.pydata.org/) *DataFrame*, a tabular format where every tweet corresponds to a row, and every field defined in the vocabulary is mapped to a column. Additionally, an index column is added to the DataFrame to keep an internal consecutive identifier for the tweets retrieved (`pd.DataFrame(dict_, index=indices)`). The completed DataFrame is then saved to the pre-specified CSV file."
   ]
  },
  {
   "cell_type": "code",
   "execution_count": null,
   "metadata": {
    "tags": [
     "hermeneutics"
    ]
   },
   "outputs": [],
   "source": [
    "# Structure data in a pandas DataFrame for easier manipulation\n",
    "indices = list(reversed(range(current_tweet_num,(current_tweet_num+num_tweets))))\n",
    "\n",
    "df = pd.DataFrame(dict_, index=indices)\n",
    "df.index.name = 'index'\n",
    "\n",
    "with open(file_name, \"a\") as f:\n",
    "    df.to_csv(f, header=is_new_file, encoding='utf-8')"
   ]
  },
  {
   "cell_type": "markdown",
   "metadata": {},
   "source": [
    "## Query Design"
   ]
  },
  {
   "cell_type": "markdown",
   "metadata": {},
   "source": [
    "Boolean search queries were created for requesting Twitter data around distinct topics of commemoration. With a character limit of 1,024 these queries consist of a mixture of hashtags, keywords and keyword combinations using rules such as the ‘OR’ statement, double quote enclosing (exact match) and parentheses to structure more complex combinations. These were arrived at using the ‘snowballing’ technique to gather relevant hashtags and keywords via the Twitter interface. Unlike phnomena such as #Brexit and #Covid19, the Irish commemorations have generated a much small number of tweets that could be retrieved using a few hashtags alone. A broad query base using keyword and hashtag combinations was required to capture as many tweets as possible. "
   ]
  },
  {
   "cell_type": "markdown",
   "metadata": {
    "tags": [
     "hermeneutics"
    ]
   },
   "source": [
    "A filtering statement was used to remove a ‘bot’ identified in the testing stages using the ‘-from:userhandle’ statement was necessary after the identification of a ‘bot’ in the testing stages whose automated tweets visibly skewed the data. Spam and link-baiting may occur around highly-used hashtags <cite data-cite=\"4766306/5X4D39SC\"></cite> and a case of this was identified. The ‘bot’ in question had repeated hundreds of variations of the same tweet based on a line of the 1916 Proclamation of the Irish Republic throughout the 2016 year. It was possible to filter out at the point of retrieval by altering the queries thereafter (albeit eating into the query character limit). However, these kinds of automated accounts can interfere with the veracity of analyses and results, as was observed when a simple word cloud and word frequency analysis was carried out using Voyant Tools <cite data-cite=\"4766306/IN2M9BSH\"></cite>, which can be installed and run locally and modified to secure the data on the local server. English was specified for consistency (‘lang:en’). Relevant Irish language tweets were therefore not captured in this study, however, hashtags using Irish language e.g., #Mná1916 attached to English-language tweets were. The following query was constructed to create the ‘Women of 1916’ dataset from 1 August 2015 to 1 January 2017:"
   ]
  },
  {
   "cell_type": "code",
   "execution_count": null,
   "metadata": {
    "tags": [
     "heremeneutics"
    ]
   },
   "outputs": [],
   "source": [
    "SEARCH_TERM = '(#Womenof1916 OR #woman0f1916 OR #WomenIn1916 OR #CumannNamBan OR #Mná1916 OR #Women1916 OR #womenoftherising OR ((women OR woman OR #irishwmnhist) (\"Easter Rising\" OR \"1916 Rising\")) OR \"cumann na mban\" OR \"Inghinidhe na hEireann\" OR \"women of 1916\" OR (((women OR woman OR #irishwmnhist) (commemoration OR centenary))(1916 OR \"Easter Rising\")) OR ((#wakingthefeminists OR #WTFeminists) (1916 OR #1916rising OR \"easter rising\" OR #ireland2016 OR #1916centenary OR #irishwmnhist OR )) OR (1916 women (feminism OR #internationalwomensday OR #IWD2016 OR equality)) OR (markievicz (constance OR countess)) OR \"Margaret Skinnider\" OR \"Helena Moloney\" OR \"Elizabeth O\\'Farrell\" OR \"Grace Gifford\" OR \"Winifred Carney\" OR (Rosie Hackett 1916) OR \"Rosamond Jacob\" OR (irish women revolutionaries) OR (Irish woman revolutionary) OR ((woman OR woman) Irish Citizen army) OR \"Hanna Sheehy-Skeffington\" OR \"Kathleen Clarke\" OR \"widows of 1916\" OR (#Revolutionarywomen (1916 OR \"easter rising\"))) lang:en -from:xxxxxxxxxxxx'\n"
   ]
  },
  {
   "cell_type": "markdown",
   "metadata": {
    "tags": [
     "hermeneutics",
     "narrative"
    ]
   },
   "source": [
    "While the Twitter Developers ‘Sandbox’ (see below) was used mainly to test and refine the functionality of the Python programme (fig. 4) using only two or three hashtags at a time e.g. #Dáil100, the public Twitter search function also has much utility in creating and refining complex search queries. As these queries can become very complex with the use of multiple rules and combinations, the public search tool was used to simultaneously build and test the queries before implementing them. Although the character limit is smaller, this allowed us to check that queries, or sections of queries, functioned correctly and returned the expected results, somewhat circumventing the limits of the Sandbox. The Twitter search function recognises the same rules and allows us to check that combinations are correct and the ‘advanced’ search option permits the exploration of search terms and historical tweets within certain date parameters."
   ]
  },
  {
   "cell_type": "code",
   "execution_count": 13,
   "metadata": {
    "tags": [
     "figure-4"
    ]
   },
   "outputs": [
    {
     "data": {
      "text/html": [
       "<img src=\"media/Dashboard_sandbox usage 2019-01-25 at 14.55.48.jpg\"/>"
      ],
      "text/plain": [
       "<IPython.core.display.Image object>"
      ]
     },
     "execution_count": 13,
     "metadata": {},
     "output_type": "execute_result"
    }
   ],
   "source": [
    "from IPython.display import Image \n",
    "metadata={\n",
    "    \"jdh\": {\n",
    "        \"module\": \"object\",\n",
    "        \"object\": {\n",
    "            \"type\":\"image\",\n",
    "            \"source\": [\n",
    "                \"figure 4 : Sandbox usage. Twitter Developers\"\n",
    "            ]\n",
    "        }\n",
    "    }\n",
    "}\n",
    "Image(url= \"media/Dashboard_sandbox usage 2019-01-25 at 14.55.48.jpg\", metadata=metadata)"
   ]
  },
  {
   "cell_type": "markdown",
   "metadata": {
    "tags": [
     "hermeneutics"
    ]
   },
   "source": [
    "The queries for this data collection were designed for feminist commemoration as a significant focus; other researchers might create different sets of search parameters around the same centenary and the same issue, and create several different datasets. Search queries are, in this way, somewhat idiosyncratic. And while the ability to share datasets in the form of Tweet IDs is undoubtedly beneficial, they cannot be altered to include missing hashtags or keywords deemed essential by another researcher. No such query-specific collection of tweets will be complete or wholly representative. Providing lists of hashtags and keywords used to create such datasets is important for understanding the scope of data retrieved as well as illustrating the limitations of thematic query-based datasets. "
   ]
  },
  {
   "cell_type": "markdown",
   "metadata": {},
   "source": [
    "# Data pre-processing and analysis"
   ]
  },
  {
   "cell_type": "markdown",
   "metadata": {},
   "source": [
    "### Data Cleaning"
   ]
  },
  {
   "cell_type": "markdown",
   "metadata": {
    "tags": [
     "hermeneutics",
     "hermeneutics-step"
    ]
   },
   "source": [
    "The tweet statement was the primary vector of analysis in this study and the most important units of data were therefore text, user mentions and hashtags, and to a lesser extent URLs, and emojis. To be cognisant of Twitter as a medium we must account for the embeddedness of such supra-textual features as hashtags, or ‘natively digital objects’ <cite data-cite=\"4766306/FHW4H34J\"></cite>, which are also user-generated by design and therefore more meaningful than simple tags, and which constitute a Tweet as a message. Different permutations of the cleaning process are possible, though removing URLs, retweets, and other ‘noise’ in the text take priority. The following Python programme written by Author 2 can remove HTML, remove or retain retweets, URLs, hashtags and user mentions as required and writes the ‘cleaned’ data to a new file. This text cleaning script is structured like a waterfall, where the result from the first stage of cleaning (`result = text.replace('\\n', ' ')`) is fed into the second stage and stored in the same variable (`result`), and this is repeated for every stage of the cleaning process."
   ]
  },
  {
   "cell_type": "code",
   "execution_count": null,
   "metadata": {
    "tags": [
     "hermeneutics"
    ]
   },
   "outputs": [],
   "source": [
    "# Regular expression library\n",
    "import re\n",
    "# Library to deal with HTML tags\n",
    "import html\n",
    "\n",
    "def clean_text(text):\n",
    "    # Remove line break characters\n",
    "    result = text.replace('\\n', ' ')\n",
    "    # Remove URLs\n",
    "    result = re.sub(r\"http\\S+\", ' ', result)\n",
    "    # Remove hashtags\n",
    "    result = re.sub(r\"#\\S+\", ' ', result)\n",
    "    # Remove user handles\n",
    "    result = re.sub(r\"@\\S+\", ' ', result) #comment out each as needed\n",
    "    # Unescape HTML tags\n",
    "    result = html.unescape(result)\n",
    "    # Return the fully processed text\n",
    "    return result\n"
   ]
  },
  {
   "cell_type": "markdown",
   "metadata": {
    "tags": [
     "hermeneutics-step"
    ]
   },
   "source": [
    "Emojis are common in tweets and presented as ‘encoding failures’ <cite data-cite=\"4766306/BX8IMUQP\"></cite> in the cleaned text.  This was dealt with by modifying the encoding format from ‘utf-8’ to ‘utf-8-sig’ for both reading and saving all new CSV files (e.g. `open(file_name, 'r', encoding='utf-8-sig')`).\n",
    "\n",
    "The following Python script reads in a CSV file containing the extracted tweets (`with open(file_name, 'r', encoding=...`), reads in the file's header (`header = next(data)`) and structures it into a dictionary (`cols = {col_name: col_num ...`), and goes through the contents of the file, one row (i.e. tweet) at a time (`for row in data:`). A check is performed inside this loop to remove retweets from the final results by skipping any tweet that starts with 'RT' (`if row[cols['text']][2:5] != 'RT ':`). For every tweet in the CSV file, this script performs a text decoding step (`text = ast.literal_eval(...`), and subsequently cleans the text with the cleaning function that was just described (`text = clean_text(text)`). Note that this stage is only performed on the `text` and `location` columns of the tweet, since this is not necessary for the rest of the data. The decoded and cleaned tweet is then appended to a list (`decoded_row.append(text)`) which is in turn used to write all of the decoded and cleaned tweets to a new CSV file (`writer.writerow(decoded_row)`).\n"
   ]
  },
  {
   "cell_type": "code",
   "execution_count": null,
   "metadata": {
    "tags": [
     "hermeneutics"
    ]
   },
   "outputs": [],
   "source": [
    "# CSV read/write library\n",
    "import csv\n",
    "# Abstract Syntax Trees library\n",
    "# (something that just works)\n",
    "import ast\n",
    "\n",
    "# Opens the file in variable file_name\n",
    "with open(file_name, 'r', encoding='utf-8-sig') as f, \\\n",
    "    open(save_file, 'w+', encoding='utf-8-sig') as s: #opens new file into which cleaned text will be written\n",
    "    # Reads the file (f) as a CSV file\n",
    "    data = csv.reader(f)\n",
    "    writer = csv.writer(s)\n",
    "\n",
    "    # Read the first row of the CSV file\n",
    "    header = next(data)\n",
    "    writer.writerow(header)\n",
    "\n",
    "    # Create a dictionary of column names:\n",
    "    # 1. Goes through every element in the header list\n",
    "    # 2. Enumerates all of the elements in the list (e.g. 0-'index', 1-'request', etc.)\n",
    "    # 3. Creates a dictionary where the column name is the key and the column number is the value\n",
    "    # With this dictionary we can ensure we always get the right column number for a given column name\n",
    "    cols = {col_name: col_num for col_num, col_name in enumerate(header)}\n",
    "    \n",
    "    # We cycle through every row in our CSV file\n",
    "    for row in data:\n",
    "        decoded_row = []\n",
    "\n",
    "        # CODE TO IGNORE RETWEETS\n",
    "        if row[cols['text']][2:5] != 'RT ':\n",
    "            for col_name in cols.keys():\n",
    "                if col_name != 'text' and col_name != 'location':\n",
    "                    decoded_row.append(row[cols[col_name]])\n",
    "                else:\n",
    "                    # Get the column number for 'text'\n",
    "                    text_col_num = cols[col_name]\n",
    "\n",
    "                    # Print the contents of the column for text\n",
    "                    text = ast.literal_eval(row[text_col_num]).decode(encoding='utf-8-sig', errors='ignore')\n",
    "                    text = clean_text(text)\n",
    "                    decoded_row.append(text)\n",
    "\n",
    "            writer.writerow(decoded_row)"
   ]
  },
  {
   "cell_type": "markdown",
   "metadata": {},
   "source": [
    "### Data Parsing"
   ]
  },
  {
   "cell_type": "markdown",
   "metadata": {
    "tags": [
     "hermeneutics",
     "hermeneutics-step"
    ]
   },
   "source": [
    "A second programme was written to transform the cleaned data into a manageable format for analysis. Making use of the ‘entities’ collected for each tweet, user mentions, hashtags and URLs were parsed and tabulated (fig 5.). Entities are presented in JSON format (linear) in the dataset and simplify the work of extracting items of interest such as hashtags as they are in a way pre-processed. In other words, they provide ‘metadata and additional contextual information about content posted on Twitter’ <cite data-cite=\"4766306/ZTXA7Q3C\"></cite> as a ‘series of defined attributes and values,’ <cite data-cite=\"4766306/RD7VKCE5\"></cite> e.g.:  "
   ]
  },
  {
   "cell_type": "code",
   "execution_count": null,
   "metadata": {
    "tags": [
     "hermeneutics"
    ]
   },
   "outputs": [],
   "source": [
    "{\"hashtags\": [{\"text\": \"insert_hashtag\", \"indices\": [00, 00]}], \"urls\": [\"https://t.co?xxxxxxxxxx\", \"expanded_url\": \"https://twitter.com/i/web/status/xxxxxxxxxxxxx\"], \"user_mentions\": [{\"screen_name\": \"insert_screenname\", \"name\": \"insert_name\", \"id\": 000000000, \"id_str\": \"000000000\", \"indices\": [00, 00]}], \"symbols\": []}"
   ]
  },
  {
   "cell_type": "markdown",
   "metadata": {
    "tags": [
     "hermeneutics-step"
    ]
   },
   "source": [
    "Entities may also include information about media types, urls, and descriptions (e.g., image dimensions), known as ‘objects.’ This parsing exercise is useful for aggregating certain types of data within tweets, as well as a critical step in coding tweets qualitatively. The date-time format was also modified to DD-MM-YYYY. "
   ]
  },
  {
   "cell_type": "code",
   "execution_count": null,
   "metadata": {
    "tags": [
     "hermeneutics"
    ]
   },
   "outputs": [],
   "source": [
    "import csv\n",
    "\n",
    "# Regular expression library\n",
    "import re\n",
    "\n",
    "# Something that just works\n",
    "import ast\n",
    "import html\n",
    "\n",
    "# Parse JSON objects (for entities)\n",
    "import json\n",
    "\n",
    "from dateutil.parser import parse as dateparse\n",
    "\n",
    "file_name = 'fullarchive.csv'\n",
    "save_file = 'decoded_fullarchive.csv' #create file where data will be copied\n",
    "print('Reading file: ', file_name)\n",
    "\n",
    "# Opens the file in variable file_name\n",
    "with open(file_name, 'r', encoding='utf-8-sig') as f, \\\n",
    "    open(save_file, 'w+', encoding='utf-8-sig') as s:\n",
    "    # Reads the file (f) as a CSV file\n",
    "    data = csv.reader(f)\n",
    "    writer = csv.writer(s)\n",
    "\n",
    "    header = next(data)\n",
    "\n",
    "    cols = {col_name: col_num for col_num, col_name in enumerate(header)}\n",
    "\n",
    "    new_header = ['date', 'time', 'screen_name', 'text', 'mentions', 'hashtags', 'location', 'favorite_count', 'retweets', 'urls','entities']\n",
    "    new_dict = {col_name: '' for col_num, col_name in enumerate(new_header)}\n",
    "\n",
    "    i = 0\n",
    "\n",
    "    writer.writerow(new_header)\n",
    "\n",
    "    # We cycle through every row in our CSV file\n",
    "    for row in data:\n",
    "\n",
    "        new_row = []\n",
    "\n",
    "        if True: # filler code, comment it if removing RTs\n",
    "\n",
    "            entities = json.loads(row[cols['entities']])\n",
    "            hashtags = ', '.join([hashtag['text'] for hashtag in entities['hashtags']])\n",
    "            print(hashtags)\n",
    "\n",
    "\n",
    "            entities = json.loads(row[cols['entities']])\n",
    "            mentions = ', '.join([mention['screen_name'] for mention in entities['user_mentions']])\n",
    "            print(mentions)\n",
    "\n",
    "            entities = json.loads(row[cols['entities']])\n",
    "            urls = ', '.join([url['expanded_url'] for url in entities['urls']])\n",
    "            print(urls)\n",
    "\n",
    "            datetime = dateparse(row[cols['date']])\n",
    "            date = datetime.date()\n",
    "            time = datetime.time()\n",
    "\n",
    "            new_dict['date'] = str(date)\n",
    "            new_dict['time'] = str(time)\n",
    "            new_dict['screen_name'] = row[cols['screen_name']]\n",
    "            new_dict['text'] = row[cols['text']]\n",
    "            new_dict['mentions'] = mentions\n",
    "            new_dict['hashtags'] = hashtags\n",
    "            new_dict['location'] = row[cols['location']]\n",
    "            new_dict['favorite_count'] = row[cols['favorite_count']]\n",
    "            new_dict['retweets'] = row[cols['retweets']]\n",
    "            new_dict['urls'] = urls\n",
    "            new_dict['entities'] = row[cols['entities']]\n",
    "\n",
    "            for col_name in new_header:\n",
    "                new_row.append(new_dict[col_name])\n",
    "\n",
    "            print(new_row)\n",
    "\n",
    "            i += 1\n",
    "\n",
    "            writer.writerow(new_row)"
   ]
  },
  {
   "cell_type": "markdown",
   "metadata": {
    "tags": [
     "hermeneutics-step"
    ]
   },
   "source": [
    "The output of this processing is a streamlined tabulation of the data:"
   ]
  },
  {
   "cell_type": "code",
   "execution_count": 15,
   "metadata": {
    "tags": [
     "figure-5"
    ]
   },
   "outputs": [
    {
     "data": {
      "text/html": [
       "<img src=\"media/Tweet_attributes_parsed_screenshot_blurred.jpg\"/>"
      ],
      "text/plain": [
       "<IPython.core.display.Image object>"
      ]
     },
     "execution_count": 15,
     "metadata": {},
     "output_type": "execute_result"
    }
   ],
   "source": [
    "from IPython.display import Image \n",
    "metadata={\n",
    "    \"jdh\": {\n",
    "        \"module\": \"object\",\n",
    "        \"object\": {\n",
    "            \"type\":\"image\",\n",
    "            \"source\": [\n",
    "                \"figure 5 : Parsed entities and reformatted data\"\n",
    "            ]\n",
    "        }\n",
    "    }\n",
    "}\n",
    "Image(url= \"media/Tweet_attributes_parsed_screenshot_blurred.jpg\", metadata=metadata)"
   ]
  },
  {
   "cell_type": "markdown",
   "metadata": {},
   "source": [
    "Below is a summary of the corpus of tweets. The smaller dataset was the object of the qualitative thematic analysis:"
   ]
  },
  {
   "cell_type": "markdown",
   "metadata": {},
   "source": [
    "|DATE RANGE||DESCRIPTION||TOTAL TWEETS||RETWEETS REMOVED|\n",
    "|----||----||----||----|\n",
    "|1 Jan-31 Dec 2016||Easter Rising 2016||399,205||139,809|\n",
    "|1 Aug 2015-31 Dec 2016||Women of 1916||45,564||10,981|\n"
   ]
  },
  {
   "cell_type": "markdown",
   "metadata": {},
   "source": [
    "## Qualitative thematic analysis"
   ]
  },
  {
   "cell_type": "markdown",
   "metadata": {
    "tags": [
     "hermeneutics"
    ]
   },
   "source": [
    "This analysis of tweets was entered into less with presumptions of ‘discovering’ something that would have been impossible through a traditional reading and more with the expectation that it would confirm or substantiate certain hunches and generate new ways of thinking about and interpreting them <cite data-cite=\"4766306/FA2EXIT3\"></cite>. Drucker has convincingly argued that automated methods and visualisations are at their core unnatural to humanistic inquiry <cite data-cite=\"4766306/MVJ4SFZD\"></cite>. Any analysis of Twitter data must be prefaced by critical reflection on the ways in which meaning can be derived from computer-assisted methods. Automation of certain tasks allows us to probe and get to know the data in more focused ways. What the results of these automations and visualisations mean, however, is not self-evident, and it is up to the researcher to contextualise, interpret, and map them against other data and analyses: ‘We use tools not to get results but to generate questions… [computers] do not produce meaning - we do’ <cite data-cite=\"4766306/FA2EXIT3\"></cite>. In this sense, Sinclair and Rockwell have suggested that text analysis tools are ‘Hermeneutica’ - interpretive aids for ‘thinking through’ data, and which can ‘help us try to formalize claims and to test them’ <cite data-cite=\"4766306/BX8IMUQP\"></cite>. Further, any visualisations presented here are intended as storytelling aids and are not literal representations of reality. Word and hashtag frequencies provide a starting point to navigate the data in search for the most salient patterns, such as recurring themes or term co-occurrences. As a second level of analysis, the collected tweets are used to construct a network of interconnected terms (words or hashtags), and the visualisation of the connections in these graphs can evidence underlying clusters of (sometimes seemingly unrelated) terms. As Boyd and Crawford have outlined, ‘big-data’ research is, from the formulation of a hypothesis, an interpretive process <cite data-cite=\"4766306/CQMSBDX8\"></cite>, as demonstrated above in the retrieving of the dataset itself.  Though not small enough as to allow for purely qualitative methods, this was, in the scheme of things, a little data study. A sample of 10,000 Tweets, after the removal of retweets, proved an ideal number. Too small and (remembering the repetitive nature of commemorative tweets) we may struggle to identify and demonstrate meaningful findings. Too large and the challenge of close reading becomes proportionately more difficult. Software and computing power may also fail in the attempt to work with very large datasets, which may be somewhat mitigated by using a more powerful (and secure) university server."
   ]
  },
  {
   "cell_type": "markdown",
   "metadata": {
    "tags": [
     "hermeneutics"
    ]
   },
   "source": [
    "The Twitter data collected was coded using qualitative thematic analysis aided by NVivo software. NVivo is a ‘qualitative computing’ <cite data-cite=\"4766306/WFAGWM85\"></cite> software package that supports exploration, organisation, annotation, indexing, and coding of qualitative data. It is commonly used, for example, to manage and code interview transcripts, though tweets can also be collected through NVivo directly using the NCapture function. A body of tweets does not, however, present a linear narrative that can be inspected in the same way as interview transcripts or policy documents. Word frequencies and text queries were used as a springboard to thematic coding. These were saved iteratively as nodes and sub-nodes i.e., coded in order to study the ‘key word in context,’ <cite data-cite=\"4766306/BX8IMUQP\"></cite> some tweets added *ad hoc* as appropriate. The initial coding was inductive and code labels assigned *in vivo*, which were added to, revised, and rearranged into themes and sub-themes, eventually amalgamating into five major areas of interest. Inseparable from the theoretically driven research questions and the philosophical assumptions of the researcher, coding became an increasingly interpretive method as the organisation of data progressed. Data, after all, are not ‘coded in an epistemological vacuum’ <cite data-cite=\"4766306/P8J7IRXJ\"></cite>. Additionally, as tweets are less dynamic in content than free flowing speech or literature, the initial coding may not necessarily result in the extremely large numbers of nodes that often represent the first layer of interpretation of spoken word data or reams of policy documents, and this will further depend on the point at which we reach saturation. It is not claimed here that every possible detail was gleaned from this handling of the dataset, nor that every single tweet was coded. Rather, a point was reached when little new was being found or adding to the nodes significantly. With the reiteration of these nodes and sub-nodes, note-taking and aggregating, the narrative began to take a clear shape."
   ]
  },
  {
   "cell_type": "markdown",
   "metadata": {},
   "source": [
    "Myers and Hamilton caution that a greater historiographical awareness of social media as primary sources must include the ways in which social media are narrativized (teleological, technological determinism, technological dystopia), but also ‘how they themselves narrativize and thus help produce the processes of interest’ <cite data-cite=\"4766306/ZEZX8GEI\"></cite>. This has implications for how we understand the effectivity of such platforms when we study their use in commemoration. Twitter is a highly performative space comprising multiple tensions and contingent on the conventions of its use (character limits, hashtags, likes, retweets, media sharing, etc): ‘Platform characteristics are critical for understanding how users create, share, interact with, and mobilize content as well as for understanding how community is created and maintained in different platforms’ <cite data-cite=\"4766306/IVQEWRIX\"></cite>. Commensurate with these conventions and culture of use, Twitter is also a reductive medium through which very short statements attempt to convey a much more complex meaning and reality, thus highly susceptible to lack of nuance. Clark-Parsons reminds of how hashtags may overly simplify and even undermine structural change; Tweets, as much as the hashtags they produce, ‘trade on short but compelling narratives’ <cite data-cite=\"4766306/XAZ4565X\"></cite>. This centennial corpus originated from pre-280 Twitter, with even less room for complexity, and narrative derived from these ‘texts’ must be tempered by such limitations. The potency of such messages is nonetheless valid when we read them with a cognisance of the boundaries and culture of the medium and situate them in their broader social and historical contexts."
   ]
  },
  {
   "cell_type": "markdown",
   "metadata": {},
   "source": [
    "# Findings"
   ]
  },
  {
   "cell_type": "markdown",
   "metadata": {},
   "source": [
    "Twitter was, in 2016, a space in which historical feminism was being expressed through commemoration, achieved by engaging in a politics of representation and critical remembrance online. This exercise in historical visibility and discourse of liberation traversed temporalities of feminism in this the women of 1916 ‘issue space’ <cite data-cite=\"4766306/FHW4H34J\"></cite>. Below is a keyword summary of the major themes and top hashtags and word frequencies:"
   ]
  },
  {
   "cell_type": "markdown",
   "metadata": {
    "tags": [
     "table-1"
    ]
   },
   "source": [
    "|Historical Information || Centenary Commentary |\n",
    "|----||----|\n",
    "|factual || commemoration|\n",
    "|quotations || celebration|\n",
    "|live-tweeting ||remembering|\n",
    "|stories       ||memory|\n",
    "|GLAMs         ||events|\n",
    "|role of women ||recognition|\n",
    "\n",
    "|Absence||Affect||Equality|\n",
    "|----||----||----|\n",
    "|airbrushing||pride||feminism|\n",
    "|silencing||honour||gender|\n",
    "|erasure||legacy||fighting|\n",
    "|forgotten||bravery/heroism||freedom/liberation|\n",
    "|recognition||inspiration||the proclamation|"
   ]
  },
  {
   "cell_type": "code",
   "execution_count": 17,
   "metadata": {},
   "outputs": [
    {
     "data": {
      "text/plain": [
       "{'tags': ['table-2', 'full-width'],\n",
       " 'jdh': {'object': {'bootstrapColumLayout': {'md': {'span': 12}},\n",
       "   'source': ['table 1 : Thematic coding']}}}"
      ]
     },
     "metadata": {},
     "output_type": "display_data"
    }
   ],
   "source": [
    "from IPython.display import display\n",
    "\n",
    "display({\n",
    "  \"tags\": [\n",
    "    \"table-2\",\n",
    "    \"full-width\"\n",
    "  ],\n",
    "  \"jdh\": {\n",
    "    \"object\": {\n",
    "      \"bootstrapColumLayout\": {\n",
    "        \"md\": { \"span\": 12 }  \n",
    "      },\n",
    "      \"source\": [\"table 1 : Thematic coding\"]\n",
    "    }\n",
    "  }\n",
    "})"
   ]
  },
  {
   "cell_type": "markdown",
   "metadata": {
    "tags": [
     "table-2"
    ]
   },
   "source": [
    "|Term||Count|\t\t|Word||Count|\n",
    "|----||----|\t\t|----||----|\n",
    "|#womenof1916||1070|\t\t|women||4750|\n",
    "|#easterrising||413|\t\t|1916||3480|\n",
    "|#ireland2016||247|\t\t|rising||2389|\n",
    "|#1916rising||245|\t\t|markievicz||2050|\n",
    "|#internationalwomensday||233|\t\t|easter||1808|\n",
    "|#iwd2016||188|\t\t|irish||1441|\n",
    "|#wakingthefeminists||172|\t\t|countess||1273|\n",
    "|#ireland||138|\t\t|cumann||945|\n",
    "|#rebellion||110|\t\t|constance||927|\n",
    "|#women||106|\t\t|mban||926|\n",
    "|#cumannnamban||101|\t\t|men||730|\n",
    "|#irish||90|\t\t|years||704|\n",
    "|#irishhistory||87|\t\t|via||702|\n",
    "|#birthofanation||79|\t\t|woman||698|\n",
    "|#onthisday||79|\t\t|grace||688|\n",
    "|#womenoftherising||78|\t\t|100||674|\n",
    "|#dublin||69|\t\t|still||600|\n",
    "|#markievicz||65|\t\t|fighting||552|\n",
    "|#easter1916||55|\t\t|gifford||538|\n",
    "|#history||54|\t\t|ireland||493|\n",
    "|#iwd16ni||50|\t\t|margaret||449|\n",
    "|#women1916||49|\t\t|today||419|\n",
    "|#otd||48|\t\t|skinnider||418|\n",
    "|#feminism||46|\t\t|olivia||414|\n",
    "|#1916live||44|\t\t|plunkett||404|\n",
    "|#womenin1916||44|\t\t|great||403|\n",
    "|#repealthe8th||40|\t\t|dublin||352|\n",
    "|#rising||37|\t\t|day||349|\n",
    "|#rte1916||36|\t\t|O’leary||346|\n",
    "\n"
   ]
  },
  {
   "cell_type": "code",
   "execution_count": 18,
   "metadata": {},
   "outputs": [
    {
     "data": {
      "text/plain": [
       "{'tags': ['table-2', 'full-width'],\n",
       " 'jdh': {'object': {'bootstrapColumLayout': {'md': {'span': 12}},\n",
       "   'source': ['table 2 : Hashtag and word frequencies']}}}"
      ]
     },
     "metadata": {},
     "output_type": "display_data"
    }
   ],
   "source": [
    "from IPython.display import display\n",
    "\n",
    "display({\n",
    "  \"tags\": [\n",
    "    \"table-2\",\n",
    "    \"full-width\"\n",
    "  ],\n",
    "  \"jdh\": {\n",
    "    \"object\": {\n",
    "      \"bootstrapColumLayout\": {\n",
    "        \"md\": { \"span\": 12 }  \n",
    "      },\n",
    "      \"source\": [\"table 2 : Hashtag and word frequencies\"]\n",
    "    }\n",
    "  }\n",
    "})"
   ]
  },
  {
   "cell_type": "markdown",
   "metadata": {},
   "source": [
    "The conventions of historical commemoration are represented in the two major themes that emerged: ‘Historical Information’ and ‘Centenary Commentary,’ and these account for the larger number of the tweets. Together these make for a preponderance of official and organised tweets - information, event and news sharing - and significant repetition even with retweets systematically removed. Link sharing direct from news sources, online petitions, and automated duplication of tweets create repetitions, but often contain supplementary text or hashtags of interest. Firstly, the repetition of historical facts and statements that characterise commemorative and historical Twitter represents the scale of engagement with the commemorations, and with particular historical phenomena. These statements, and ‘invitations to remember’ <cite data-cite=\"4766306/8CHKQ2KQ\"></cite> are also part of the ‘ritual discourse’ of commemoration online, and are constitutive of the tensions between remembering and forgetting.  Further to this, ‘Absence’ – critique of historical and continued erasure of women from history - ‘Affect’ – expressing a relationship with the past through expositions of pride, honour, inspiration - and ‘Equality’ - critique of gender inequality in the present through the prism of commemoration - emerged as substantially recurrent concepts, intertwined with ritual commemorative commentary and historical transmission (For an extended discussion of ‘Equality’ see: Author 1, XXX (Forthcoming 2022)). The following details some of the findings from the coding and analysis of this issue space, focusing on historical and commemorative commentary. Further to this, the example of International Women’s Day when the official state ceremony to commemorate the women of 1916 was held in 2016 captures the affective capital of commemoration, critique of historical absence, and a discourse of liberation in the present in this commemorative space. "
   ]
  },
  {
   "cell_type": "markdown",
   "metadata": {},
   "source": [
    "## Historical Information & Centenary Commentary"
   ]
  },
  {
   "cell_type": "markdown",
   "metadata": {},
   "source": [
    "Twitter is, above all, a platform for information transmission <cite data-cite=\"4766306/IVQEWRIX\"></cite>.  Libraries, Archives, Museums and Galleries (GLAMs), events, exhibitions, collections or the letters, diaries, records and photographs of particular women, as well as academic research, books, conferences, lectures, and historical documentaries were prevalent in this space.  Historical information was, unsurprisingly, key to this remembrance process and in turn making women visible in this politics of information. This pivoted on the *role of women* in the Easter Rising, highlighting their activism and contributions through historical statements and commenting on the memory politics of the past and included factual Tweets, historical quotations, or ‘live-tweeting’ historical moments:"
   ]
  },
  {
   "cell_type": "markdown",
   "metadata": {},
   "source": [
    "> @CenturyIRL: Elizabeth O’Farrell, nurse and Volunteer, leaves #MooreSt carrying a white surrender flag #1916LIVE"
   ]
  },
  {
   "cell_type": "markdown",
   "metadata": {},
   "source": [
    "Information about Cumann na mBan (Women’s League) and female rebels and revolutionaries constitutes much of these tweets with an emphasis on telling their stories and commemorative cultural productions inspired by them. The suffragism of many of these women also feature, some tweets looking towards the 2018 centenary of partial women’s suffrage in terms of how it would be adequately commemorated. The complexity of women’s involvement in Easter Week 1916 is necessarily lost in the reductive nature of Tweets, and indeed we cannot expect such complexity of this medium. Of greater interest is how people engaged with and understood these historical roles and their consequences for the course of Irish history and gender politics up to the present day, and how they expressed these meanings through the medium of Twitter. Many tweets characterise the contributions of women as ‘brave’, ‘vital’, ‘key’, ‘integral’, ‘critical’, ‘central’ and so on. A distinct tension emerged between the ‘forgotten’, ‘untold’, ‘ignored’, ‘unknown’ or ‘hidden’, and the remembering, recognition, retelling, celebration and reclaiming of women’s roles and stories. This has the dual function of public history-making and critical commentary <cite data-cite=\"4766306/8NUABFVV\"></cite>, making visible both the politics of the past and that which was marginalised.  "
   ]
  },
  {
   "cell_type": "code",
   "execution_count": 19,
   "metadata": {
    "tags": [
     "figure-6"
    ]
   },
   "outputs": [
    {
     "data": {
      "text/html": [
       "<img src=\"media/Picture 1.jpg\"/>"
      ],
      "text/plain": [
       "<IPython.core.display.Image object>"
      ]
     },
     "execution_count": 19,
     "metadata": {},
     "output_type": "execute_result"
    }
   ],
   "source": [
    "from IPython.display import Image \n",
    "metadata={\n",
    "    \"jdh\": {\n",
    "        \"module\": \"object\",\n",
    "        \"object\": {\n",
    "            \"type\":\"image\",\n",
    "            \"source\": [\n",
    "                \"figure 6: Hashtag co-occurence clusters: #womenof1916. Generated in Gephi using a modularity algorithm\"\n",
    "            ]\n",
    "        }\n",
    "    }\n",
    "}\n",
    "Image(url= \"media/Picture 1.jpg\", metadata=metadata)"
   ]
  },
  {
   "cell_type": "code",
   "execution_count": 21,
   "metadata": {
    "tags": [
     "figure-7"
    ]
   },
   "outputs": [
    {
     "data": {
      "text/html": [
       "<img src=\"media/Picture 2.jpg\"/>"
      ],
      "text/plain": [
       "<IPython.core.display.Image object>"
      ]
     },
     "execution_count": 21,
     "metadata": {},
     "output_type": "execute_result"
    }
   ],
   "source": [
    "from IPython.display import Image \n",
    "metadata={\n",
    "    \"jdh\": {\n",
    "        \"module\": \"object\",\n",
    "        \"object\": {\n",
    "            \"type\":\"image\",\n",
    "            \"source\": [\n",
    "                \"figure 7: Hashtag co-occurence clusters: #EasterRising. Generated in Gephi using a modularity algorithm\"\n",
    "            ]\n",
    "        }\n",
    "    }\n",
    "}\n",
    "Image(url= \"media/Picture 2.jpg\", metadata=metadata)"
   ]
  },
  {
   "cell_type": "markdown",
   "metadata": {},
   "source": [
    "‘Centenary commentary’ can be divided between the subset of themes ‘commemoration’, ‘celebration’, and ‘remembering’ and in each case invitations and obligations to remember, commemorate and celebrate are salient. Commemoration, broadest of these, includes information, announcements about, and invitations to, events such as for International Women’s Day, commemorative ceremonies such as wreath-laying and plaque dedications, commemorative campaigns, craft, theatre and musical performances - all of which pay homage to, highlight and explore the role of women in the 1916 Rising. Pride, honour and concomitant expressions of emotion and overwhelmingly positive sentiment towards the commemorations and related cultural productions are also a feature of this sub-theme. Cultural productions such as theatre and musical performances as modes of remembering, celebrating, and commemorating individual women are similarly well received in this issue-space. One exception was the TV mini-series *Rebellion*, aired between February and March 2016, which dramatized the Rising largely from the point of view of three fictional women. This received a more ambivalent reception, with some tweets appreciative of the female perspective yet critical of the somewhat ironic exclusion of nurse Elizabeth O’Farrell, famously ‘airbrushed’ from a *Daily Sketch* photograph of the surrender scene in a report on the insurrection in 1916. This ‘airbrushing’ (somewhat contested) has become emblematic of the side-lining of women in Irish history, and was prevalent in the discourse of absence in this issue space."
   ]
  },
  {
   "cell_type": "markdown",
   "metadata": {},
   "source": [
    "Also included is commentary on the inclusiveness of the centenary programme, comparisons with the position of women in the 1966 fiftieth anniversary commemorations, and repeated declarations that ‘finally’ these historical women and their roles in the foundation of the State were being acknowledged. A sense that women had at long last become ‘worthy’ or deserving of recognition also emerges in relation to this unprecedented public and commemorative attention. "
   ]
  },
  {
   "cell_type": "markdown",
   "metadata": {},
   "source": [
    "> @ireland: The #womenof1916 is a central theme of #Ireland2016 commemorations."
   ]
  },
  {
   "cell_type": "markdown",
   "metadata": {},
   "source": [
    "However much the Expert Advisory Group on the commemorations insisted against celebratory notions of official remembrance, haunted by the excesses of 1966 that were retrospectively blamed for stoking the outbreak of the northern 'Troubles,' the centenary as a ‘celebration’ was apparent in the prevalence of the term in this issue space, as well as the larger dataset. Mainly, these statements were concerned with celebrating particular women, such as Constance Markievicz, Cumann na mBan, the role of women in the Rising more generally, their bravery and legacies, and events dedicated to their valorisation."
   ]
  },
  {
   "cell_type": "markdown",
   "metadata": {},
   "source": [
    "> @ireland2016: This year we remembered the bravery and idealism of the women of 1916 and honoured the women of today."
   ]
  },
  {
   "cell_type": "markdown",
   "metadata": {},
   "source": [
    "Many declared their remembrance of the courage and sacrifices of women and men involved in the Rising, describing them variously as heroes, patriots, courageous, and others still refer to honouring their memory, and paying tribute or homage to their memory. Recognition is again expressed as something long-awaited and justified. Still other tweets reminded that we must remember the issues that women face *today* even as we commemorate 1916 and its female protagonists, that indeed these contemporary problems are linked with the need to engage in critical, feminist remembrance. Several tweets asked that we recall not just women’s role in 1916, but equally their legacies of gender equality work. Commemoration, after all, is a present-centred meaning-making process and the stories of the women of 1916 became the narrative that, for many, spoke ‘more directly to latter-day concerns and are more relevant to latter-day identity formations’ <cite data-cite=\"4766306/Z52TT2VH\"></cite>. As seen in the hashtag collocations below, #Repealthe8th (referring to the then ongoing abortion rights campaign) and #WakingTheFeminists (a movement sparked by gender discrimination in the National Theatre’s programme for the 1916 centenary), feature in this space. Abortion rights activists in turn invoked the feminist ghost of the past in their annual ‘March for Choice’ in September 2016, which reimagined historical imagery and referenced female revolutionaries and the egalitarian language of the 1916 Proclamation under the banner ‘Rise and Repeal’ <cite data-cite=\"4766306/4QUIXFNN\"></cite>."
   ]
  },
  {
   "cell_type": "markdown",
   "metadata": {},
   "source": [
    "## International Women’s Day"
   ]
  },
  {
   "cell_type": "markdown",
   "metadata": {},
   "source": [
    "In the theme ‘Equality’ was a cluster of tweets in reference to International Women’s Day (IWD) 8 March 2016, where a critique of gender equality in Ireland continued to be the subtext to both official and unofficial remembrance. IWD (the second largest peak in fig. 8 below), was appropriated for the official state ceremony to commemorate the role of women in the 1916 Rising, prior to the main centenary event on Easter Sunday, evident in the second largest peak of total tweets in this dataset. IWD is itself an internationally recognised day to commemorate women globally, and in this issue space it was a platform to make women (historical and contemporary) visible and express affective communion with women of the past and a discourse of liberation in the present."
   ]
  },
  {
   "cell_type": "markdown",
   "metadata": {},
   "source": [
    "Fig 8. *Total Tweets ‘Women of 1916’ (c. 10k original Tweets i.e., retweets removed) Aug 2015 - Dec 2016.*:"
   ]
  },
  {
   "attachments": {
    "Picture%201.png": {
     "image/png": "[encoded data removed]"
    }
   },
   "cell_type": "markdown",
   "metadata": {
    "tags": [
     "figure-8"
    ]
   },
   "source": [
    "![Picture%201.png](attachment:Picture%201.png)\n",
    "from IPython.display import Image \n",
    "metadata={\n",
    "    \"jdh\": {\n",
    "        \"module\": \"object\",\n",
    "        \"object\": {\n",
    "            \"type\":\"image\",\n",
    "            \"source\": [\n",
    "                \"figure 8: Total Tweets ‘Women of 1916’ (c. 10k original Tweets i.e., retweets removed) Aug 2015 - Dec 2016\"\n",
    "            ]\n",
    "        }\n",
    "    }\n",
    "}\n",
    "Image(url= \"media/total-tweets-womenof1916.jpg\", metadata=metadata)"
   ]
  },
  {
   "cell_type": "markdown",
   "metadata": {},
   "source": [
    "Figures 9 and 10 below show clusters of hashtags around the topic of IWD, and to a lesser extent ‘Proclamation Day,’ with hashtags like #womenofcourage, #inclusion, #hero, #equality4all, #genderequity, #inspiringwomen, #theproclamation, #1916women to name a few. Figure 10 shows how keywords like ‘honouring,’ ‘tribute,’ ‘legacy,’ ‘equality,’ ‘inspirational,’ ‘proud,’ ‘celebrating,’ and ‘heroes’ appear in collocation with ‘international women’s day.’"
   ]
  },
  {
   "cell_type": "code",
   "execution_count": 23,
   "metadata": {
    "tags": [
     "figure-9"
    ]
   },
   "outputs": [
    {
     "data": {
      "text/html": [
       "<img src=\"media/Picture 3.jpg\"/>"
      ],
      "text/plain": [
       "<IPython.core.display.Image object>"
      ]
     },
     "execution_count": 23,
     "metadata": {},
     "output_type": "execute_result"
    }
   ],
   "source": [
    "from IPython.display import Image \n",
    "metadata={\n",
    "    \"jdh\": {\n",
    "        \"module\": \"object\",\n",
    "        \"object\": {\n",
    "            \"type\":\"image\",\n",
    "            \"source\": [\n",
    "                \"figure 9: Sections of hashtag co-occurrences showing IWD clusterings\"\n",
    "            ]\n",
    "        }\n",
    "    }\n",
    "}\n",
    "Image(url= \"media/Picture 3.jpg\", metadata=metadata)\n"
   ]
  },
  {
   "cell_type": "code",
   "execution_count": 24,
   "metadata": {
    "tags": [
     "figure-10"
    ]
   },
   "outputs": [
    {
     "data": {
      "text/html": [
       "<img src=\"media/Picture 4.jpg\"/>"
      ],
      "text/plain": [
       "<IPython.core.display.Image object>"
      ]
     },
     "execution_count": 24,
     "metadata": {},
     "output_type": "execute_result"
    }
   ],
   "source": [
    "from IPython.display import Image \n",
    "metadata={\n",
    "    \"jdh\": {\n",
    "        \"module\": \"object\",\n",
    "        \"object\": {\n",
    "            \"type\":\"image\",\n",
    "            \"source\": [\n",
    "                \"figure 10: Sections of hashtag co-occurrences showing IWD clusterings\"\n",
    "            ]\n",
    "        }\n",
    "    }\n",
    "}\n",
    "Image(url= \"media/Picture 4.jpg\", metadata=metadata)\n"
   ]
  },
  {
   "cell_type": "markdown",
   "metadata": {},
   "source": [
    "A State event was held at Kilmainham Hospital, Dublin, on IWD 2016. Passages from the keynote speech made by the President of Ireland, Michael D. Higgins, at the ceremony were referenced in many tweets, passages that weigh in on remembering, forgetting, and the position of women in Irish society past and present e.g.:"
   ]
  },
  {
   "cell_type": "markdown",
   "metadata": {},
   "source": [
    "> …those who were long described as ‘the forgotten women of 1916’ are not forgotten any more... we reflect, together, on all that remains to be done if we are to live up to the dreams of equality and justice that animated those women from our past <cite data-cite=\"4766306/HCCGEC7X\"></cite>."
   ]
  },
  {
   "cell_type": "markdown",
   "metadata": {},
   "source": [
    "The tone of Tweets surrounding IWD are celebratory, focusing on the legacy of the women insurgents, underscoring their role as ‘key’, ‘significant’ and ‘pivotal’, and expressing inspiration, pride and solidarity in celebrating and paying tribute, their ‘bravery and idealism’ re-emphasised. IWD events and cultural productions are described variously as fitting, beautiful, and perfect homages. Acknowledgement, recognition, and the imperative to commemorate and remember again characterised these Tweets. Continuity between 1916 and 2016 was more explicit as with IWD there is a celebratory discourse directed towards women of the past as well as the women of today. Further to this was acknowledgement of the ways in which the women of the past and their roles in history have impacted the Irish nation today, the status of women in it, and individual sense of identity. Some tweets assert the women of 1916 and Irish women in history as shapers of the nation and national identity. Equally, there was recognition of how much work is needed still to achieve equality in the present. Many tweets, for example, pointed to the slow progress of representation in Irish politics, gender quotas having been recently introduced in electoral nominations in 2016 in time for the February general election. To a much greater extent, this was to become the backdrop to the 2018 centenary of partial female suffrage <cite data-cite=\"4766306/QXWRKCQZ\"></cite>.  "
   ]
  },
  {
   "cell_type": "markdown",
   "metadata": {},
   "source": [
    "## The anti-feminist backlash?"
   ]
  },
  {
   "cell_type": "markdown",
   "metadata": {},
   "source": [
    "What was not readily apparent in this tweet data was evidence of the kind of anti-feminist or misogynistic discourse that is often expected in such research and of social media forums, and for which Twitter is a ready petri dish. Banet-Weiser has considered this intractable duality of ‘popular feminism’ and what she calls ‘popular misogyny,’ a ‘defence against feminism and its putative gains,’ as they play out in multiple media settings including social media and comment-enabled platforms <cite data-cite=\"4766306/VPHIC8ET\"></cite>. The answer in respect of this study has to do with the data source and the limitations of the API-based retrieval methods. At the time of collecting the tweet data in 2019, it was not possible to capture a cascade of full-text tweet replies or Tweet IDs through the Premium API service, which is where we would expect to find this type of discourse. It is another problem that has been faced by hate speech researchers, for example, when attempting to scale-up research methodologies and data collection from phenomena observed in-platform. Since this data was collected, new endpoint features have been added including a ‘conversation_id’ parameter to better track these threads. "
   ]
  },
  {
   "cell_type": "markdown",
   "metadata": {},
   "source": [
    "As outlined above, no query can capture every relevant tweet, nor return a fully representative dataset. Another partial explanation, therefore, is that those expressing opposition to this feminist remembrance politics simply did not engage in the hashtags or use keywords or phrases that matched with the query used to collect this dataset. Whether a deliberate eschewing of hashtags - which are after all designed to connect and make visible - or otherwise identifying language, can only be speculated upon. However, it raises questions for future re-analysis and methodological development. In this sense, the dataset and analysis are based in the ‘hashtag women of 1916’ narrative on Twitter primarily from the perspective of its participants, itself a feminist practice and practice of feminist ethics <cite data-cite=\"4766306/XAZ4565X\"></cite><cite data-cite=\"4766306/5EG6DA6S\"></cite>. "
   ]
  },
  {
   "cell_type": "markdown",
   "metadata": {},
   "source": [
    "# Conclusion"
   ]
  },
  {
   "cell_type": "markdown",
   "metadata": {},
   "source": [
    "What this assemblage of tweets say together is that, for Irish feminists, historical commemoration was as much a lens for critically engaging the present as it was past. Reflecting on the decade of remembrance, McGarry has suggested that more than ‘simply re-enacting the past, the most successful forms of commemoration allow for its energies to illuminate the possibility of alternative futures’<cite data-cite=\"4766306/HRWBICGT\"></cite>. In 2016, Twitter was just one avenue through which a renewed gender historical consciousness was being expressed and transmitted, and in which Irish feminists were simultaneously challenging the past and the present. The occasion of the centenary year may have created the conditions in which tensions around inclusion or exclusion might boil over in different cultural spaces, however, this moment came on the back of decades of feminist historical scholarship, the opening up and digitisation of archives, both of which flourished in the lead up to and during the Decade of Centenaries. While this body of tweets cannot be described as representative of the public, one snapshot of the 2016 commemorations online, it is nonetheless indicative of a process that did not occur in isolation. This exercise in visibility, representation and critical commemoration via the medium of Twitter represents a wider process of actualizing the women of 1916 in ‘official’ or authorised commemoration, history, and communal memory, evidentiary of a wider public shift in the interpretation of the past, one that has continued in momentum as the second phase of the commemorative decade has progressed. "
   ]
  },
  {
   "cell_type": "markdown",
   "metadata": {},
   "source": [
    "One of the greatest difficulties of this study was to balance a rigorously ethical protocol with evidencing of sources, and creating a meaningful narrative from the data within this framework: ‘As internet technologies and practices continue to change, it has become increasingly difficult, even for experienced researchers, to know how best to achieve effective and ethical research online’ <cite data-cite=\"4766306/SNPUBNK9\"></cite>. Given the volatile nature of this data environment, and the reactionary policies of social media companies in the face of platform abuses, we should perhaps remain cautious in our optimism around academic access to the Twitter archive. Twitter regularly moves the goalposts meaning that social media research is always vulnerable to new restrictions created by changes to the APIs, such as the ongoing move to the Twitter API v.2, to which such data collection tools do not always respond and regularly become obsolete. It is an ever-evolving challenge - technically, ethically, epistemologically, methodologically. Twitter Inc., after all, exists to profit from the instant gratification, reductive cultural politics, and lack of nuance that the platform facilitates in its users. We must therefore be cautious about what we infer from either individual tweets or quantifications within the constraints and fluctuating social norms of the medium. Universities are beginning to create better and more comprehensive guidelines, particularly in light of GDPR, for entering into this endeavour and which will facilitate researchers in making the most of their data while maintaining ethical rigour, and yet social media requires a level of source criticism, ‘digital hermeneutics,’ <cite data-cite=\"4766306/MFVEN6XV\"></cite> and an ethics of care that is still poorly documented and articulated in digital and public history. Important, sociological, historical conversations and movements are happening in social media spaces even as they manufacture toxicity and platforms are implicated in undermining global democracy, a paradox we all live with whether we are of these platforms or not. In this article is demonstrated the feminist historical work that was being expressed through Irish Twitter in 2016. We have presented just one set of data collection and analysis methods that are possible for historical Twitter research, one that contributes directly to a growing body of literature facing the fluctuating challenges of social media research for the study of of the past in the present online."
   ]
  },
  {
   "cell_type": "markdown",
   "metadata": {},
   "source": [
    "# References"
   ]
  },
  {
   "cell_type": "markdown",
   "metadata": {},
   "source": [
    "<div class=\"cite2c-biblio\"></div>"
   ]
  }
 ],
 "metadata": {
  "celltoolbar": "Tags",
  "cite2c": {
   "citations": {
    "4766306/2E3VISE7": {
     "URL": "https://orbilu.uni.lu/bitstream/10993/35307/1/publi_F CLAVERT.pdf",
     "abstract": "[fr] Ce chapitre propose une analyse des différentes temporalités que l'on peut percevoir dans un large corpus de tweets relatifs à la Grande Guerre et à son Centenaire. Il s'interroge notamment sur les effets des \"vibrations\" propres aux réseaux sociaux numériques sur ces temporalités. [en] This chapter provides an analysis of the different temporalities that can be perceived in a large corpus of tweets relating to the Great War and its Centenary. In particular, it questions the effects of information \"wavelets\" specific to digital social networks on these temporalities.",
     "author": [
      {
       "family": "Clavert",
       "given": "Frederic"
      }
     ],
     "container-title": "Temps et temporalités du Web",
     "editor": [
      {
       "family": "Schafer",
       "given": "Valerie"
      }
     ],
     "event-place": "Nanterre",
     "id": "4766306/2E3VISE7",
     "issued": {
      "year": 2018
     },
     "note": "DOI: 10.4000/reset.787.2",
     "page": "113–134",
     "page-first": "113",
     "publisher": "Presses Universitaires de Paris Nanterre",
     "publisher-place": "Nanterre",
     "title": "Temporaliés du Centenaire de la Grande Guerre sur Twitter",
     "type": "chapter"
    },
    "4766306/4QUIXFNN": {
     "URL": "https://www.abortionrightscampaign.ie/2016/08/02/rise-and-repeal-march-for-choice-2016/",
     "accessed": {
      "day": 7,
      "month": 3,
      "year": 2020
     },
     "author": [
      {
       "family": "Abortion Rights Campaign",
       "given": ""
      }
     ],
     "container-title": "Abortion Rights Campaign",
     "id": "4766306/4QUIXFNN",
     "title": "Rise and Repeal March for Choice 2016",
     "type": "webpage"
    },
    "4766306/5EG6DA6S": {
     "author": [
      {
       "family": "Earhart",
       "given": "Amy E"
      }
     ],
     "container-title": "Bodies of Information: Intersectional Feminism and Digital Humanities",
     "editor": [
      {
       "family": "Wernimont",
       "given": "Jacqueline"
      },
      {
       "family": "Losh",
       "given": "Elizabeth"
      }
     ],
     "id": "4766306/5EG6DA6S",
     "issued": {
      "year": 2018
     },
     "page": "369-390",
     "page-first": "369",
     "publisher": "University of Minnesota Press",
     "shortTitle": "Bodies of Information",
     "title": "Can We Trust the University? Digital Humanities Collaborations with Historically Exploited Cultural Communities",
     "title-short": "Bodies of Information",
     "type": "chapter"
    },
    "4766306/5RJIC6DB": {
     "URL": "https://help.twitter.com/en/rules-and-policies/twitter-api",
     "accessed": {
      "day": 20,
      "month": 5,
      "year": 2020
     },
     "author": [
      {
       "family": "Twitter Inc.",
       "given": ""
      }
     ],
     "id": "4766306/5RJIC6DB",
     "title": "About Twitter's APIs",
     "type": "book"
    },
    "4766306/5X4D39SC": {
     "ISBN": "978-1-78714-486-6 978-1-78714-485-9",
     "URL": "https://doi.org/10.1108/S2398-601820180000002004",
     "abstract": "Abstract This chapter provides an overview of the specific legal, ethical, and privacy issues that can arise when conducting research using Twitter data. Existing literature is reviewed to inform those who may be undertaking social media research. We also present a number of industry and academic case studies in order to highlight the challenges that may arise in research projects using social media data. Finally, the chapter provides an overview of the process that was followed to gain ethics approval for a Ph.D. project using Twitter as a primary source of data. By outlining a number of Twitter-specific research case studies, the chapter will be a valuable resource to those considering the ethical implications of their own research projects utilizing social media data. Moreover, the chapter outlines existing work looking at the ethical practicalities of social media data and relates their applicability to researching Twitter.",
     "author": [
      {
       "family": "Ahmed",
       "given": "Wasim"
      },
      {
       "family": "Bath",
       "given": "Peter A."
      },
      {
       "family": "Demartini",
       "given": "Gianluca"
      }
     ],
     "collection-title": "Advances in Research Ethics and Integrity",
     "container-title": "The Ethics of Online Research",
     "editor": [
      {
       "family": "A.",
       "given": "Bath Peter"
      },
      {
       "family": "Woodfield",
       "given": "Kandy"
      }
     ],
     "id": "4766306/5X4D39SC",
     "issued": {
      "month": 1,
      "year": 2017
     },
     "note": "DOI: 10.1108/S2398-601820180000002004",
     "page": "79–107",
     "page-first": "79",
     "publisher": "Emerald Publishing Limited",
     "shortTitle": "Using Twitter as a Data Source",
     "title": "Using Twitter as a Data Source: An Overview of Ethical, Legal, and Methodological Challenges",
     "title-short": "Using Twitter as a Data Source",
     "type": "chapter",
     "volume": "2"
    },
    "4766306/7765K5XF": {
     "author": [
      {
       "family": "Smyth",
       "given": "Hannah"
      }
     ],
     "container-title": "CHEurope Joint Publication (TBC)",
     "editor": [
      {
       "family": "Harrison",
       "given": "Rodney"
      },
      {
       "family": "Dias",
       "given": "Nélia"
      },
      {
       "family": "Kristiansen",
       "given": "Kristian"
      }
     ],
     "id": "4766306/7765K5XF",
     "issued": {
      "season": "Forthcoming",
      "year": 2022
     },
     "publisher": "UCL Press",
     "title": "Twitter and Irish feminist commemoration",
     "type": "chapter"
    },
    "4766306/7X8C55RI": {
     "abstract": "Abstract The focus of this chapter is the intersection of social media, publication, data sharing, and research ethics. By now there is an extensive literature on the use of social media in research. There is also excellent work on challenges of postpublication sharing of social media, primarily focused on legal restrictions, technical infrastructure, and documentation. This chapter attempts to build upon and extend this work by using cases to deepen the analysis of ethical issues arising from publishing and sharing social media data. Publishing will refer to the presentation of data extracts, aggregations, or summaries, while sharing refers to the practice of making the underlying data available postpublication for others to use. It will look at the ethical questions that arise both for researchers (or others) sharing data, and those who are using data that has been made available by others, emphasizing the inherently relational nature of data sharing. The ethical challenges researchers face when considering sharing user-generated content collected from social media platforms are the focus of the cases. The chapter begins by summarizing the general principles of research ethics, then identifies the specific ethical challenges from sharing social media data and positions these challenges in the context of these general principles. These challenges are then analyzed in more detail with cases from research projects that drew upon several different genres of social media. The chapter concludes with some recommendations for practical guidance and considers the future of ethical practice in sharing social media data.",
     "author": [
      {
       "family": "Bishop",
       "given": "Libby"
      },
      {
       "family": "Gray",
       "given": "Daniel"
      }
     ],
     "container-title": "The Ethics of Online Research",
     "editor": [
      {
       "family": "Woodfield",
       "given": "Kandy"
      }
     ],
     "id": "4766306/7X8C55RI",
     "issued": {
      "year": 2017
     },
     "note": "DOI: 10.1108/s2398-601820180000002007",
     "page": "159–187",
     "page-first": "159",
     "publisher": "Emerald",
     "title": "Ethical Challenges of Publishing and Sharing Social Media Research Data",
     "type": "chapter",
     "volume": "2"
    },
    "4766306/8CHKQ2KQ": {
     "author": [
      {
       "family": "Rantasila",
       "given": "A"
      },
      {
       "family": "Sirola",
       "given": "A"
      },
      {
       "family": "Kekkonen",
       "given": "A"
      },
      {
       "family": "Valaskivi",
       "given": "K"
      },
      {
       "family": "Kunelius",
       "given": "R"
      }
     ],
     "container-title": "International Journal Of Communication",
     "id": "4766306/8CHKQ2KQ",
     "issued": {
      "year": 2018
     },
     "language": "English",
     "page": "928–949",
     "page-first": "928",
     "shortTitle": "#fukushima Five Years On",
     "title": "#fukushima Five Years On: A Multimethod Analysis of Twitter on the Anniversary of the Nuclear Disaster",
     "title-short": "#fukushima Five Years On",
     "type": "article-journal",
     "volume": "12"
    },
    "4766306/8NUABFVV": {
     "DOI": "https://doi.org/10.1525/tph.2017.39.2.10",
     "URL": "http://tph.ucpress.edu/content/39/2/10.abstract",
     "abstract": "It seems that Ireland is lagging behind other nations in gender balance in promoting and exhibiting its history. This article seeks to interrogate current representations of women within what can be called “public history” in Ireland. It will also contextualize the integration of women as both creators and subjects of history over recent years. It will point to inadequacies, of course, but also examples of great practice that bodes well for the future.",
     "author": [
      {
       "family": "Casserly",
       "given": "Maeve"
      },
      {
       "family": "O'Neill",
       "given": "Ciaran"
      }
     ],
     "container-title": "The Public Historian",
     "id": "4766306/8NUABFVV",
     "issue": "2",
     "issued": {
      "year": 2017
     },
     "page": "10 – 30",
     "page-first": "10",
     "title": "Public History, Invisibility, and Women in the Republic of Ireland",
     "type": "article-journal",
     "volume": "39"
    },
    "4766306/A5QUR3PZ": {
     "DOI": "10.1080/1369118X.2019.1637447",
     "abstract": "In the aftermath of the Cambridge Analytica controversy, social media platform providers such as Facebook and Twitter have severely restricted access to platform data via their Application Programming Interfaces (APIs). This has had a particularly critical effect on the ability of social media researchers to investigate phenomena such as abuse, hate speech, trolling, and disinformation campaigns, and to hold the platforms to account for the role that their affordances and policies might play in facilitating such dysfunction. Alternative data access frameworks, such as Facebook's partnership with the controversial Social Science One initiative, represent an insufficient replacement for fully functional APIs, and the platform providers' actions in responding to the Cambridge Analytica scandal raise suspicions that they have instrumentalised it to actively frustrate critical, independent, public interest scrutiny by scholars. Building on a critical review of Facebook's public statements through its own platforms and the mainstream media, and of the scholarly responses these have drawn, this article outlines the societal implications of the ‘APIcalypse', and reviews potential options for scholars in responding to it.",
     "author": [
      {
       "family": "Bruns",
       "given": "Axel"
      }
     ],
     "container-title": "Information Communication and Society",
     "id": "4766306/A5QUR3PZ",
     "issue": "11",
     "issued": {
      "year": 2019
     },
     "page": "1544–1566",
     "page-first": "1544",
     "title": "After the ‘APIcalypse': social media platforms and their fight against critical scholarly research",
     "type": "article-journal",
     "volume": "22"
    },
    "4766306/BX8IMUQP": {
     "ISBN": "978-0-262-33206-4",
     "author": [
      {
       "family": "Rockwell",
       "given": "Geoffrey"
      },
      {
       "family": "Sinclair",
       "given": "Stéfan"
      }
     ],
     "event-place": "Cambridge, Massachusetts",
     "id": "4766306/BX8IMUQP",
     "issued": {
      "year": 2016
     },
     "language": "eng",
     "publisher": "The MIT Press",
     "publisher-place": "Cambridge, Massachusetts",
     "shortTitle": "Hermeneutica",
     "title": "Hermeneutica: computer-assisted interpretation in the humanities",
     "title-short": "Hermeneutica",
     "type": "book"
    },
    "4766306/CBLKK9VX": {
     "URL": "https://www.docnow.io/",
     "accessed": {
      "day": 7,
      "month": 6,
      "year": 2021
     },
     "container-title": "Documenting the Now",
     "id": "4766306/CBLKK9VX",
     "title": "DocNow",
     "type": "webpage"
    },
    "4766306/CQMSBDX8": {
     "DOI": "10.1080/1369118X.2012.678878",
     "abstract": "The era of Big Data has begun. Computer scientists, physicists, economists, mathematicians, political scientists, bio-informaticists, sociologists, and other scholars are clamoring for access to the massive quantities of information produced by and about people, things, and their interactions. Diverse groups argue about the potential benefits and costs of analyzing genetic sequences, social media interactions, health records, phone logs, government records, and other digital traces left by people. Significant questions emerge. Will large-scale search data help us create better tools, services, and public goods? Or will it usher in a new wave of privacy incursions and invasive marketing? Will data analytics help us understand online communities and political movements? Or will it be used to track protesters and suppress speech? Will it transform how we study human communication and culture, or narrow the palette of research options and alter what 'research' means? Given the rise of Big Data as a socio-technical phenomenon, we argue that it is necessary to critically interrogate its assumptions and biases. In this article, we offer six provocations to spark conversations about the issues of Big Data: a cultural, technological, and scholarly phenomenon that rests on the interplay of technology, analysis, and mythology that provokes extensive utopian and dystopian rhetoric. © 2012 Copyright Taylor and Francis Group, LLC.",
     "author": [
      {
       "family": "Boyd",
       "given": "Danah"
      },
      {
       "family": "Crawford",
       "given": "Kate"
      }
     ],
     "container-title": "Information Communication and Society",
     "id": "4766306/CQMSBDX8",
     "issue": "5",
     "issued": {
      "year": 2012
     },
     "page": "662–679",
     "page-first": "662",
     "shortTitle": "Critical questions for big data",
     "title": "Critical questions for big data: Provocations for a cultural, technological, and scholarly phenomenon",
     "title-short": "Critical questions for big data",
     "type": "article-journal",
     "volume": "15"
    },
    "4766306/D6I3Z7NC": {
     "URL": "https://help.twitter.com/en/managing-your-account/about-twitter-verified-accounts",
     "accessed": {
      "day": 20,
      "month": 5,
      "year": 2020
     },
     "author": [
      {
       "family": "Twitter Inc.",
       "given": ""
      }
     ],
     "id": "4766306/D6I3Z7NC",
     "title": "About verified accounts",
     "type": "book"
    },
    "4766306/DJSMJU9J": {
     "DOI": "10.1080/1369118X.2019.1648536",
     "abstract": "This introduction to the special issue considers how independent research on mis/disinformation campaigns can be conducted in a corporate environment hostile to academic research. We provide an overview of the disinformation landscape in the wake of the Facebook-Cambridge Analytica data scandal and social platforms' decision to enforce access lockdowns and the throttling of Application Programming Interfaces (APIs) for data collection. We argue that the governance shift from user communities to social media algorithms, along with social platforms' intensive emphasis on generating revenue from user data, has eroded the mutual trust of networked publics and opened the way for dis/misinformation campaigns. We discuss the importance of open, public APIs for academic research as well as the unique challenges of collecting social media data to study highly ephemeral mis/disinformation campaigns. The introduction concludes with an assessment of the growing data access gap that not only hinders research of public interest, but that may also preclude researchers from identifying meaningful research questions as activity on social platforms becomes increasingly more inscrutable and unobservable.",
     "author": [
      {
       "family": "Walker",
       "given": "Shawn"
      },
      {
       "family": "Mercea",
       "given": "Dan"
      },
      {
       "family": "Bastos",
       "given": "Marco"
      }
     ],
     "container-title": "Information Communication and Society",
     "id": "4766306/DJSMJU9J",
     "issue": "11",
     "issued": {
      "year": 2019
     },
     "page": "1531–1543",
     "page-first": "1531",
     "shortTitle": "The disinformation landscape",
     "title": "The disinformation landscape and the lockdown of social platforms",
     "title-short": "The disinformation landscape",
     "type": "article-journal",
     "volume": "22"
    },
    "4766306/DTU6X99K": {
     "URL": "https://developer.twitter.com/en/docs/twitter-api/v1/data-dictionary/overview/tweet-object",
     "accessed": {
      "day": 20,
      "month": 9,
      "year": 2020
     },
     "author": [
      {
       "family": "Twitter Inc.",
       "given": ""
      }
     ],
     "id": "4766306/DTU6X99K",
     "title": "Data Dictionary - Tweet Objects",
     "type": "book"
    },
    "4766306/EJVNCVWR": {
     "author": [
      {
       "family": "Salmons",
       "given": "Janet"
      }
     ],
     "container-title": "The SAGE Handbook of Social Media Research Methods, Handbook of Social Media Research Methods",
     "editor": [
      {
       "family": "Sloan",
       "given": "Luke"
      },
      {
       "family": "Quan-Haase",
       "given": "Anabel"
      }
     ],
     "id": "4766306/EJVNCVWR",
     "issued": {
      "year": 2016
     },
     "publisher": "SAGE Publications",
     "title": "Using Social Media in Data Collection: Designing Studies with the Qualitative E-Research Framework",
     "type": "chapter"
    },
    "4766306/FA2EXIT3": {
     "author": [
      {
       "family": "Sinclair",
       "given": "Stéfan"
      },
      {
       "family": "Rockwell",
       "given": "Geoffrey"
      }
     ],
     "container-title": "A New Companion to Digital Humanities",
     "editor": [
      {
       "family": "Schreibman",
       "given": "Susan"
      },
      {
       "family": "Siemens",
       "given": "Raymond George"
      },
      {
       "family": "Unsworth",
       "given": "John"
      }
     ],
     "event-place": "Chichester, England",
     "id": "4766306/FA2EXIT3",
     "issued": {
      "year": 2016
     },
     "page": "274–290",
     "page-first": "274",
     "publisher": "Wiley Blackwell",
     "publisher-place": "Chichester, England",
     "shortTitle": "Text Analysis and Visualization",
     "title": "Text Analysis and Visualization: Making Meaning Count",
     "title-short": "Text Analysis and Visualization",
     "type": "chapter"
    },
    "4766306/FHW4H34J": {
     "author": [
      {
       "family": "Rogers",
       "given": "Richard"
      }
     ],
     "event-place": "London",
     "id": "4766306/FHW4H34J",
     "issued": {
      "year": 2019
     },
     "number-of-pages": "328",
     "publisher": "SAGE Publications",
     "publisher-place": "London",
     "title": "Doing Digital Methods",
     "type": "book"
    },
    "4766306/FQ2JB35C": {
     "DOI": "10.1111/hir.12247",
     "author": [
      {
       "family": "Ahmed",
       "given": "Wasim"
      },
      {
       "family": "Bath",
       "given": "Peter A"
      },
      {
       "family": "Sbaffi",
       "given": "Laura"
      },
      {
       "family": "Demartini",
       "given": "Gianluca"
      }
     ],
     "container-title": "Health Information Libraries Journal",
     "id": "4766306/FQ2JB35C",
     "issue": "36",
     "issued": {
      "year": 2019
     },
     "page": "60–72",
     "page-first": "60",
     "title": "Novel insights into views towards H1N1 during the 2009 Pandemic : a thematic analysis of Twitter data",
     "type": "article-journal"
    },
    "4766306/FRKCN4MR": {
     "DOI": "10.1285/i20356609v11i2p557",
     "author": [
      {
       "family": "Rogers",
       "given": "Richard"
      }
     ],
     "container-title": "Partecipazione e Conflitto",
     "id": "4766306/FRKCN4MR",
     "issue": "2",
     "issued": {
      "year": 2018
     },
     "page": "557–570",
     "page-first": "557",
     "title": "Social media research after the fake news debacle",
     "type": "article-journal",
     "volume": "11"
    },
    "4766306/FZNE756Q": {
     "URL": "https://developer.twitter.com/en/docs/twitter-api/v1/tweets/search/api-reference/premium-search#RequestResponseBehavior",
     "accessed": {
      "day": 20,
      "month": 9,
      "year": 2020
     },
     "author": [
      {
       "family": "Twitter Inc.",
       "given": ""
      }
     ],
     "id": "4766306/FZNE756Q",
     "title": "Search Tweets - Request/response behaviour",
     "type": "book"
    },
    "4766306/GV83697G": {
     "DOI": "10.1016/j.websem.2017.05.002",
     "URL": "http://www.sciencedirect.com/science/article/pii/S1570826817300240",
     "abstract": "This paper presents a framework for collecting and analysing large volume social media content. The real-time analytics framework comprises semantic annotation, Linked Open Data, semantic search, and dynamic result aggregation components. In addition, exploratory search and sense-making are supported through information visualisation interfaces, such as co-occurrence matrices, term clouds, treemaps, and choropleths. There is also an interactive semantic search interface (Prospector), where users can save, refine, and analyse the results of semantic search queries over time. Practical use of the framework is exemplified through three case studies: a general scenario analysing tweets from UK politicians and the public’s response to them in the run up to the 2015 UK general election, an investigation of attitudes towards climate change expressed by these politicians and the public, via their engagement with environmental topics, and an analysis of public tweets leading up to the UK’s referendum on leaving the EU (Brexit) in 2016. The paper also presents a brief evaluation and discussion of some of the key text analysis components, which are specifically adapted to the domain and task, and demonstrate scalability and efficiency of our toolkit in the case studies.",
     "author": [
      {
       "family": "Maynard",
       "given": "Diana"
      },
      {
       "family": "Roberts",
       "given": "Ian"
      },
      {
       "family": "Greenwood",
       "given": "Mark A."
      },
      {
       "family": "Rout",
       "given": "Dominic"
      },
      {
       "family": "Bontcheva",
       "given": "Kalina"
      }
     ],
     "container-title": "Web Semantics: Science, Services and Agents on the World Wide Web",
     "container-title-short": "Web Semantics: Science, Services and Agents on the World Wide Web",
     "id": "4766306/GV83697G",
     "issued": {
      "day": 12,
      "month": 5,
      "year": 2017
     },
     "journalAbbreviation": "Web Semantics: Science, Services and Agents on the World Wide Web",
     "title": "A framework for real-time semantic social media analysis",
     "type": "article-journal"
    },
    "4766306/HCCGEC7X": {
     "URL": "https://president.ie/en/media-library/speeches/speech-by-president-michael-d.-higgins-to-commemorate-the-role-of-women-in",
     "abstract": "@Royal Hospital Kilmainham",
     "accessed": {
      "day": 20,
      "month": 4,
      "year": 2020
     },
     "author": [
      {
       "family": "Higgins",
       "given": "Michael D."
      }
     ],
     "id": "4766306/HCCGEC7X",
     "issued": {
      "month": 3,
      "year": 2016
     },
     "title": "Speech at an Event to Commemorate the Role of Women in the 1916 Easter Rising",
     "type": "book"
    },
    "4766306/HRWBICGT": {
     "author": [
      {
       "family": "McGarry",
       "given": "Fearghal"
      }
     ],
     "edition": "2nd",
     "event-place": "Oxford",
     "id": "4766306/HRWBICGT",
     "issued": {
      "year": 2016
     },
     "publisher": "Oxford University Press",
     "publisher-place": "Oxford",
     "title": "The Rising in Ireland: Easter 1916",
     "type": "book"
    },
    "4766306/HWQ9TSU7": {
     "URL": "https://developer.twitter.com/en/developer-terms/agreement-and-policy",
     "accessed": {
      "day": 19,
      "month": 2,
      "year": 2020
     },
     "author": [
      {
       "family": "Twitter Inc.",
       "given": ""
      }
     ],
     "id": "4766306/HWQ9TSU7",
     "title": "Developer Agreement and Policy",
     "type": "book"
    },
    "4766306/IN2M9BSH": {
     "URL": "https://voyant-tools.org/",
     "accessed": {
      "day": 25,
      "month": 1,
      "year": 2019
     },
     "author": [
      {
       "family": "Sinclair",
       "given": "Stéfan"
      },
      {
       "family": "Rockwell",
       "given": "Geoffrey"
      }
     ],
     "container-title": "Voyant Tools",
     "id": "4766306/IN2M9BSH",
     "issued": {
      "year": 2020
     },
     "title": "Voyant Tools",
     "type": "webpage"
    },
    "4766306/IVQEWRIX": {
     "URL": "https://methods.sagepub.com/book/the-sage-handbook-of-social-media-research-methods",
     "author": [
      {
       "family": "McCay-Peet",
       "given": "Lori"
      },
      {
       "family": "Quan-Haase",
       "given": "Anabel"
      }
     ],
     "container-title": "The SAGE Handbook of Social Media Research Methods",
     "event-place": "London",
     "id": "4766306/IVQEWRIX",
     "issued": {
      "year": 2016
     },
     "note": "DOI: 10.4135/9781473983847",
     "page": "13-26",
     "page-first": "13",
     "publisher": "SAGE Publications Ltd",
     "publisher-place": "London",
     "title": "What is Social Media and What Questions Can Social Media Research Help Us Answer?",
     "type": "chapter"
    },
    "4766306/J7K5MA3S": {
     "URL": "https://developer.twitter.com/en/solutions/academic-research",
     "accessed": {
      "day": 20,
      "month": 9,
      "year": 2020
     },
     "author": [
      {
       "family": "Twitter Inc.",
       "given": ""
      }
     ],
     "id": "4766306/J7K5MA3S",
     "title": "Academic research",
     "type": "webpage"
    },
    "4766306/MFVEN6XV": {
     "DOI": "10.1111/1468-229X.12969",
     "abstract": "Computing and the use of digital sources and resources is an everyday and essential practice in current academic scholarship. The present article gives a concise overview of approaches and methods within digital historical scholarship, focusing on the question ‘How have the digital humanities evolved and what has that evolution brought to historical scholarship?' We begin by discussing techniques in which data are generated and machine searchable, such as OCR/HTR, born-digital archives, computer vision, scholarly editions and linked data. In the second section, we provide examples of how data is made more accessible through quantitative text and network analysis. The third section considers the need for hermeneutics and data-awareness in digital historical scholarship. The technologies described in this article have had varying degrees of effect on historical scholarship, usually in indirect ways. With this article we aim to take stock of the digital approaches and methods used in historical scholarship in order to provide starting points for scholars seeking to understand the digital turn in the field and how and when to implement such approaches in their work.",
     "author": [
      {
       "family": "Romein",
       "given": "C. Annemieke"
      },
      {
       "family": "Kemman",
       "given": "Max"
      },
      {
       "family": "Birkholz",
       "given": "Julie M."
      },
      {
       "family": "Baker",
       "given": "James"
      },
      {
       "family": "De Gruijter",
       "given": "Michel"
      },
      {
       "family": "Meroño-Peñuela",
       "given": "Albert"
      },
      {
       "family": "Ries",
       "given": "Thorsten"
      },
      {
       "family": "Ros",
       "given": "Ruben"
      },
      {
       "family": "Scagliola",
       "given": "Stefania"
      }
     ],
     "container-title": "History",
     "id": "4766306/MFVEN6XV",
     "issue": "365",
     "issued": {
      "year": 2020
     },
     "page": "291–312",
     "page-first": "291",
     "title": "State of the Field: Digital History",
     "type": "article-journal",
     "volume": "105"
    },
    "4766306/MM75RPG6": {
     "URL": "https://methods.sagepub.com/book/the-sage-handbook-of-social-media-research-methods",
     "author": [
      {
       "family": "Janetzko",
       "given": "Dietmar"
      }
     ],
     "container-title": "The SAGE Handbook of Social Media Research Methods",
     "editor": [
      {
       "family": "Sloan",
       "given": "Luke"
      },
      {
       "family": "Quan-Haase",
       "given": "Anabel"
      }
     ],
     "event-place": "London",
     "id": "4766306/MM75RPG6",
     "issued": {
      "year": 2016
     },
     "note": "DOI: 10.4135/9781473983847",
     "page": "146–160",
     "page-first": "146",
     "publisher": "SAGE Publications Ltd",
     "publisher-place": "London",
     "title": "The Role of APIs in Data Sampling from Social Media",
     "type": "chapter"
    },
    "4766306/MVJ4SFZD": {
     "ISBN": "978-1-118-68060-5",
     "URL": "http://onlinelibrary.wiley.com/doi/10.1002/9781118680605.ch17/summary",
     "abstract": "As digital humanists adopt visualization techniques developed in the social sciences, natural sciences, and other disciplines grounded in empirical approaches to knowledge, fundamental discrepancies arise between the modes of representation and the interpretative bases of humanistic inquiry. This chapter brings critical theory to bear on the study of information visualizations, and also suggests some ways to advance the production of approaches more squarely rooted in ambiguity, contradiction, and other characteristics of interpretative methods. Attention is given to the structure of interface and its rhetorics as well as the graphical formats that structure meaning in visualizations – and to the need for a critical language to reflect on these formats and processes.",
     "author": [
      {
       "family": "Drucker",
       "given": "Johanna"
      }
     ],
     "container-title": "A New Companion to Digital Humanities",
     "editor": [
      {
       "family": "Schreibman",
       "given": "Susan"
      },
      {
       "family": "Siemens",
       "given": "Ray"
      },
      {
       "family": "Unsworth",
       "given": "John"
      }
     ],
     "id": "4766306/MVJ4SFZD",
     "issued": {
      "year": 2015
     },
     "language": "en",
     "note": "DOI: 10.1002/9781118680605.ch17",
     "page": "238-250",
     "page-first": "238",
     "publisher": "John Wiley & Sons, Ltd",
     "title": "Graphical Approaches to the Digital Humanities",
     "type": "chapter"
    },
    "4766306/P8J7IRXJ": {
     "DOI": "10.1191/1478088706qp063oa",
     "author": [
      {
       "family": "Braun",
       "given": "Virginia"
      },
      {
       "family": "Clarke",
       "given": "Victoria"
      }
     ],
     "container-title": "Qualitative Research in Psychology",
     "id": "4766306/P8J7IRXJ",
     "issue": "2",
     "issued": {
      "year": 2006
     },
     "page": "77–101",
     "page-first": "77",
     "title": "Using thematic analysis in psychology",
     "type": "article-journal",
     "volume": "3"
    },
    "4766306/PAE5MSB5": {
     "DOI": "10.1515/pdtc-2018-0011",
     "abstract": "Institutional archiving of media is neither new nor strange. The United States Library of Congress has been preserving printed materials, newspapers, photographs, film, and even websites for decades - if not centuries. After seven years, in later 2017, the initiative to build a Twitter Archive came to a halt. Through a textual analysis of policy papers, preservation theories and press releases, this study illustrates the social, cultural, and symbolic challenges of institutional archiving of digital media.",
     "author": [
      {
       "family": "Fondren",
       "given": "Elisabeth"
      },
      {
       "family": "McCune",
       "given": "Meghan Menard"
      }
     ],
     "container-title": "Preservation, Digital Technology and Culture",
     "id": "4766306/PAE5MSB5",
     "issue": "2",
     "issued": {
      "year": 2018
     },
     "page": "33–44",
     "page-first": "33",
     "title": "Archiving and Preserving Social Media at the Library of Congress: Institutional and Cultural Challenges to Build a Twitter Archive",
     "type": "article-journal",
     "volume": "47"
    },
    "4766306/QS4B4NIV": {
     "accessed": {
      "day": 7,
      "month": 6,
      "year": 2021
     },
     "author": [
      {
       "family": "Tornes",
       "given": "Adam"
      }
     ],
     "genre": "Developer Blog",
     "id": "4766306/QS4B4NIV",
     "issued": {
      "day": 26,
      "month": 1,
      "year": 2021
     },
     "title": "Enabling the future of academic research with the Twitter API",
     "type": "post-weblog"
    },
    "4766306/QXWRKCQZ": {
     "URL": "https://www.oireachtas.ie/en/visit-and-learn/votail-100/",
     "accessed": {
      "day": 6,
      "month": 1,
      "year": 2018
     },
     "id": "4766306/QXWRKCQZ",
     "publisher": "Tithe an Oireachtas / Houses of the Oireachtas",
     "title": "Vótáil 100",
     "type": "book"
    },
    "4766306/RD7VKCE5": {
     "URL": "https://methods.sagepub.com/book/the-sage-handbook-of-social-media-research-methods",
     "author": [
      {
       "family": "Murthy",
       "given": "Dhiraj"
      }
     ],
     "container-title": "The SAGE Handbook of Social Media Research Methods",
     "editor": [
      {
       "family": "Sloan",
       "given": "Luke"
      },
      {
       "family": "Quan-Haase",
       "given": "Anabel"
      }
     ],
     "event-place": "London",
     "id": "4766306/RD7VKCE5",
     "issued": {
      "year": 2016
     },
     "note": "DOI: 10.4135/9781473983847",
     "page": "559–572",
     "page-first": "559",
     "publisher": "SAGE Publications Ltd",
     "publisher-place": "London",
     "title": "The Ontology of Tweets: Mixed-Method Approaches to the Study of Twitter",
     "type": "chapter"
    },
    "4766306/SNPUBNK9": {
     "author": [
      {
       "family": "Kelly",
       "given": "Brit"
      }
     ],
     "container-title": "Routledge International Handbook of Research Methods in Digital Humanities,",
     "editor": [
      {
       "family": "Schuster",
       "given": "Kristen"
      },
      {
       "family": "Dunn",
       "given": "Stuart"
      }
     ],
     "id": "4766306/SNPUBNK9",
     "issued": {
      "year": 2020
     },
     "page": "441-453",
     "page-first": "441",
     "publisher": "Routledge",
     "title": "Practising Goodwill Ethics in Digital Research Methods",
     "type": "chapter"
    },
    "4766306/VH75KP48": {
     "URL": "https://developer.twitter.com/en/pricing/search-fullarchive",
     "accessed": {
      "day": 20,
      "month": 9,
      "year": 2020
     },
     "author": [
      {
       "family": "Twitter Inc.",
       "given": ""
      }
     ],
     "id": "4766306/VH75KP48",
     "title": "Configure Search Tweets: Full Archive",
     "type": "book"
    },
    "4766306/VPHIC8ET": {
     "ISBN": "978-1-4780-0277-2",
     "URL": "https://doi.org/10.1215/9781478002772",
     "abstract": "In Empowered Sarah Banet-Weiser examines the deeply entwined relationship between popular feminism and popular misogyny as it plays out in advertising, online and multimedia platforms, and nonprofit and commercial campaigns. Examining feminist discourses that emphasize self-confidence, body positivity, and individual achievement alongside violent misogynist phenomena such as revenge porn, toxic geek masculinity, and men's rights movements, Banet-Weiser traces how popular feminism and popular misogyny are co-constituted. From Black Girls Code and the Always #LikeAGirl campaign to GamerGate and the 2016 presidential election, Banet-Weiser shows how popular feminism is met with a misogynistic backlash of mass harassment, assault, and institutional neglect. In so doing, she contends that popular feminism's problematic commitment to visibility limits its potential and collective power.",
     "author": [
      {
       "family": "Banet-Weiser",
       "given": "Sarah"
      }
     ],
     "id": "4766306/VPHIC8ET",
     "issued": {
      "month": 11,
      "year": 2018
     },
     "note": "DOI: 10.1215/9781478002772",
     "publisher": "Duke University Press",
     "shortTitle": "Empowered",
     "title": "Empowered: Popular Feminism and Popular Misogyny",
     "title-short": "Empowered",
     "type": "book"
    },
    "4766306/W5XS2QWQ": {
     "URL": "http://etheses.whiterose.ac.uk/20367/1/Final PhD Thesis 11 MAY.pdf",
     "author": [
      {
       "family": "Ahmed",
       "given": "Wasim"
      }
     ],
     "id": "4766306/W5XS2QWQ",
     "issued": {
      "year": 2018
     },
     "publisher": "Sheffield University",
     "title": "Using Twitter data to provide qualitative insights into pandemics and epidemics",
     "type": "thesis"
    },
    "4766306/WFAGWM85": {
     "ISBN": "978-1-85604-813-2",
     "URL": "http://search.ebscohost.com/login.aspx?direct=true&AuthType=ip,shib&db=nlebk&AN=1560617&site=ehost-live&scope=site",
     "abstract": "The long-awaited 2nd edition of this best-selling research methods handbook is fully updated and includes brand new coverage of online research methods and techniques, mixed methodology and qualitative analysis. This edition includes two new contributed chapters: Professor Julie McLeod, Sue Childs and Elizabeth Lomas focus on research data management, applying evidence from the recent JISC funded DATUM project; Dr Andrew Shenton examines strategies for analysing existing documents. The first to focus entirely on the needs of the information and communications community, this handbook guides the would-be researcher through the variety of possibilities open to them under the heading research and provides students with the confidence to embark on their dissertations. The focus here is on the doing and although the philosophy and theory of research is explored to provide context, this is essentially a practical exploration of the whole research process with each chapter fully supported by examples and exercises tried and tested over a whole teaching career. Readership: Students of information and communications studies and archives and records management, and practitioners beginning a piece of research.|The long-awaited 2nd edition of this best-selling research methods handbook is fully updated and includes brand new coverage of online research methods and techniques, mixed methodology and qualitative analysis. This edition includes two new contributed chapters: Professor Julie McLeod, Sue Childs and Elizabeth Lomas focus on research data management, applying evidence from the recent JISC funded ‘DATUM'project; Dr Andrew Shenton examines strategies for analysing existing documents. The first to focus entirely on the needs of the information and communications community, this handbook guides the would-be researcher through the variety of possibilities open to them under the heading ‘research'and provides students with the confidence to embark on their dissertations. The focus here is on the ‘doing'and although the philosophy and theory of research is explored to provide context, this is essentially a practical exploration of the whole research process with each chapter fully supported by examples and exercises tried and tested over a whole teaching career. Readership: Students of information and communications studies and archives and records management, and practitioners beginning a piece of research.",
     "author": [
      {
       "family": "Pickard",
       "given": "Alison Jane"
      }
     ],
     "event-place": "London",
     "id": "4766306/WFAGWM85",
     "issued": {
      "year": 2013
     },
     "language": "English",
     "publisher": "Facet Publishing",
     "publisher-place": "London",
     "title": "Research Methods in Information",
     "type": "book"
    },
    "4766306/XAZ4565X": {
     "DOI": "10.1080/14680777.2019.1628797",
     "URL": "https://doi.org/10.1080/14680777.2019.1628797",
     "abstract": "Hashtag feminism, a form of activism that appropriates Twitter's metadata tags for organizing posts to draw visibility to a cause, has become a central component of the feminist media repertoire. Much discourse about hashtag feminism revolves around whether or not Twitter is an effective tool for activism. This instrumentalist approach leaves activists' strategies for juggling both the affordances and limitations of hashtag feminism under-theorized. Taking up a case study of the #MeToo movement, I consider practitioners' perspectives on hashtag feminism and highlight the processes through which activists develop tactics while working within particular sociotechnical constraints. Through an analysis of a meta-tweets, or tweets about the campaign, I argue that hashtag feminism is a contentious performance in which activists make the personal political by making it visible, bridging the individual with the collective and illustrating the systemic nature of social injustice. As #MeToo demonstrates, however, making the personal visible on a globally networked stage opens activists up to a variety of risks. To address these limitations, #MeToo participants developed performance maintenance strategies, through which they evaluated the campaign's shortcomings and advanced solutions. Their reflexivity points toward hashtag feminism as a complex recursive process aimed at achieving a transformative politics of visibility.",
     "author": [
      {
       "family": "Clark-Parsons",
       "given": "Rosemary"
      }
     ],
     "container-title": "Feminist Media Studies",
     "id": "4766306/XAZ4565X",
     "issued": {
      "year": 2019
     },
     "page": "1–19",
     "page-first": "1",
     "shortTitle": "“I SEE YOU, I BELIEVE YOU, I STAND WITH YOU”",
     "title": "“I SEE YOU, I BELIEVE YOU, I STAND WITH YOU”: #MeToo and the performance of networked feminist visibility",
     "title-short": "“I SEE YOU, I BELIEVE YOU, I STAND WITH YOU”",
     "type": "article-journal"
    },
    "4766306/XFH6ZQN4": {
     "URL": "https://developer.twitter.com/en/docs/rate-limits",
     "accessed": {
      "day": 20,
      "month": 9,
      "year": 2020
     },
     "author": [
      {
       "family": "Twitter Inc.",
       "given": ""
      }
     ],
     "container-title": "Twitter Developers",
     "id": "4766306/XFH6ZQN4",
     "title": "Rate Limits",
     "type": "webpage"
    },
    "4766306/XSRSN7R6": {
     "URL": "https://developer.twitter.com/en/use-cases/do-research/academic-research/curated-datasets",
     "accessed": {
      "day": 7,
      "month": 6,
      "year": 2021
     },
     "container-title": "Twitter Developers",
     "id": "4766306/XSRSN7R6",
     "title": "Curated datasets for researchers",
     "type": "webpage"
    },
    "4766306/Z52TT2VH": {
     "abstract": "This collection of essays brings together two major new developments in cultural memory studies: firstly, the shift away from static models of cultural memory, where the emphasis lies on cultural products, in the direction of more dynamic models where the emphasis lies instead on the cultural and social processes involved in the ongoing production of shared views of the past; and secondly, the growing interest in the role of the media, and their role beyond that of mere storage, within these dynamics. The specific concern of this collection is linking the use of media to the larger socio-cultural processes involved in collective memory-making. The focus rests in particular on two aspects of media use: the basic dynamics of “mediation” and “remediation”. The key questions are: What role do media play in the production and circulation of cultural memories? How do mediation, remediation and intermediality shape objects and acts of cultural remembrance? How can new, emergent media redefine or transform what is collectively remembered? The essays of this collection focus on social, historical, religious, and artistic media-memories. The authors analyze the memory-making impact of news media, the mediation and remediation of lieux de mémoire, the medial representation of colonial and postcolonial, of Holocaust and Second World War memories, and finally the problematization of these very processes in artistic media forms, such as novels and movies.",
     "author": [
      {
       "family": "Erll",
       "given": "Astrid"
      },
      {
       "family": "Ann Rigney",
       "given": ""
      }
     ],
     "container-title": "Mediation, Remediation, and the Dynamics of Cultural Memory",
     "editor": [
      {
       "family": "Erll",
       "given": "Astrid"
      },
      {
       "family": "Ann Rigney",
       "given": ""
      }
     ],
     "event-place": "New York",
     "id": "4766306/Z52TT2VH",
     "issued": {
      "year": 2009
     },
     "note": "DOI: 10.1515/9783110217384.0.1",
     "page": "1–14",
     "page-first": "1",
     "publisher": "De Gruyter",
     "publisher-place": "New York",
     "title": "Introduction: Cultural Memory and its Dynamics",
     "type": "chapter"
    },
    "4766306/ZEZX8GEI": {
     "DOI": "10.1080/13688804.2014.950639",
     "URL": "http://dx.doi.org/10.1080/13688804.2014.950639",
     "abstract": "This article explores and critiques the use of social media as a primary source in the writing of twenty-first-century history. Since the introduction of so-called social media in the early 2000s, social scientists, journalists, and users have hailed this media form as a revolutionary departure from the old media that dominated the twentieth century. Part of the narrative of new media is it provides greater amounts of user agency, removes structural impediments for social dialog, and promotes an egalitarian exchange within the global sphere. This article suggests that this account is a product of the narrative structure of classical liberalism, through which social media as an object of knowledge and effectivity is produced. It concludes that the use of social media as a primary source for social histories of popular protest will require substantive theoretical scrutiny by scholars writing about these processes of the twenty-first century.",
     "author": [
      {
       "family": "Myers",
       "given": "Cayce"
      },
      {
       "family": "Hamilton",
       "given": "James F."
      }
     ],
     "container-title": "Media History",
     "id": "4766306/ZEZX8GEI",
     "issue": "4",
     "issued": {
      "year": 2014
     },
     "page": "431–444",
     "page-first": "431",
     "title": "Social media as primary source",
     "type": "article-journal",
     "volume": "20"
    },
    "4766306/ZS3Q6GP2": {
     "URL": "https://web.archive.org/web/20170615005746/https:/twitter.com/en/privacy",
     "accessed": {
      "day": 20,
      "month": 5,
      "year": 2020
     },
     "author": [
      {
       "family": "Twitter Inc.",
       "given": ""
      }
     ],
     "id": "4766306/ZS3Q6GP2",
     "title": "Privacy Policy",
     "type": "book"
    },
    "4766306/ZTXA7Q3C": {
     "URL": "https://developer.twitter.com/en/docs/twitter-api/v1/data-dictionary/overview/entities-object",
     "accessed": {
      "day": 20,
      "month": 9,
      "year": 2020
     },
     "author": [
      {
       "family": "Twitter Inc.",
       "given": ""
      }
     ],
     "container-title": "Twitter Developers",
     "id": "4766306/ZTXA7Q3C",
     "title": "Data Dictionary - Tweet entities",
     "type": "webpage"
    },
    "undefined": {
     "DOI": "10.1080/1369118X.2019.1637447",
     "abstract": "In the aftermath of the Cambridge Analytica controversy, social media platform providers such as Facebook and Twitter have severely restricted access to platform data via their Application Programming Interfaces (APIs). This has had a particularly critical effect on the ability of social media researchers to investigate phenomena such as abuse, hate speech, trolling, and disinformation campaigns, and to hold the platforms to account for the role that their affordances and policies might play in facilitating such dysfunction. Alternative data access frameworks, such as Facebook's partnership with the controversial Social Science One initiative, represent an insufficient replacement for fully functional APIs, and the platform providers' actions in responding to the Cambridge Analytica scandal raise suspicions that they have instrumentalised it to actively frustrate critical, independent, public interest scrutiny by scholars. Building on a critical review of Facebook's public statements through its own platforms and the mainstream media, and of the scholarly responses these have drawn, this article outlines the societal implications of the ‘APIcalypse', and reviews potential options for scholars in responding to it.",
     "author": [
      {
       "family": "Bruns",
       "given": "Axel"
      }
     ],
     "container-title": "Information Communication and Society",
     "id": "undefined",
     "issue": "11",
     "issued": {
      "year": 2019
     },
     "page": "1544–1566",
     "page-first": "1544",
     "title": "After the ‘APIcalypse': social media platforms and their fight against critical scholarly research",
     "type": "article-journal",
     "volume": "22"
    }
   }
  },
  "kernelspec": {
   "display_name": "Python 3",
   "language": "python",
   "name": "python3"
  },
  "language_info": {
   "codemirror_mode": {
    "name": "ipython",
    "version": 3
   },
   "file_extension": ".py",
   "mimetype": "text/x-python",
   "name": "python",
   "nbconvert_exporter": "python",
   "pygments_lexer": "ipython3",
   "version": "3.7.10"
  },
  "toc": {
   "base_numbering": 1,
   "nav_menu": {},
   "number_sections": true,
   "sideBar": true,
   "skip_h1_title": false,
   "title_cell": "Table of Contents",
   "title_sidebar": "Contents",
   "toc_cell": false,
   "toc_position": {
    "height": "calc(100% - 180px)",
    "left": "10px",
    "top": "150px",
    "width": "256px"
   },
   "toc_section_display": true,
   "toc_window_display": true
  }
 },
 "nbformat": 4,
 "nbformat_minor": 4
}
